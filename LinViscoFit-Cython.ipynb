{
 "cells": [
  {
   "cell_type": "code",
   "execution_count": 1,
   "metadata": {},
   "outputs": [],
   "source": [
    "%matplotlib widget\n",
    "from pyLinViscoFit import inter\n",
    "GUI = inter.Control()"
   ]
  },
  {
   "cell_type": "markdown",
   "metadata": {},
   "source": [
    "# Prony series identification for linear viscoelastic material models\n",
    "Martin Springer | 2022 v0.0.1 \n",
    "\n",
    "***\n",
    "## Overview\n",
    "\n",
    "Linear viscoelastic materials are often described with a Generalized Maxwell model. The necessary model parameter are identified by fitting a Prony series to the experimental measurement data. \n",
    "\n",
    "This Jupyter notebook allows for the identification of Prony series parameter from experimental data measured in either the frequency domain (via Dynamic Mechanical Thermal Analysis) or time domain (via relaxation measurements). The experimental data can be provided as raw measurement sets at different temperatures or as pre-processed master curves.\n",
    "\n",
    "* If raw measurement data are provided, the time-temperature superposition principle is applied to create a master curve and obtain shift functions before the Prony series parameter are identified. \n",
    "\n",
    "* If master curves are provided, the shift procedure can be skipped and the Prony series parameters can be identified directly. \n",
    "\n",
    "An optional minimization routine is provided at the end of this notebook to reduce the number of Prony elements. This routine is helpful for Finite Element simulations where reducing the computational complexity of the linear viscoelastic material models can reduce the simulation time. "
   ]
  },
  {
   "cell_type": "code",
   "execution_count": 2,
   "metadata": {
    "scrolled": false
   },
   "outputs": [
    {
     "data": {
      "application/vnd.jupyter.widget-view+json": {
       "model_id": "6f58c6a62f9b42eaab9d6e747ae2845d",
       "version_major": 2,
       "version_minor": 0
      },
      "text/plain": [
       "ToggleButton(value=False, description='Click here for more details!', layout=Layout(width='200px'))"
      ]
     },
     "metadata": {},
     "output_type": "display_data"
    },
    {
     "data": {
      "application/vnd.jupyter.widget-view+json": {
       "model_id": "700f82495b0a4d9f8b70bbe6e47b279d",
       "version_major": 2,
       "version_minor": 0
      },
      "text/plain": [
       "HTMLMath(value='')"
      ]
     },
     "metadata": {},
     "output_type": "display_data"
    }
   ],
   "source": [
    "display(GUI.b_theory)\n",
    "display(GUI.out_theory)"
   ]
  },
  {
   "cell_type": "markdown",
   "metadata": {},
   "source": [
    "***\n",
    "## Parameter identification\n",
    "\n",
    "\n",
    "### Specify measurement type and upload input data\n",
    "\n",
    "In this section the measurement type is specified and the experimental data are uploaded. A set of example input files can be downloaded here: [Example input files](https://github.com/martin-springer/LinViscoFit/raw/main/examples/examples.zip)\n",
    "\n",
    "#### Conventions \n",
    "| Physical quantity        | Symbol               | Variable   | Unit   |\n",
    "| :---------------------   | :-------------:      | :--------- | :----: |\n",
    "| Relaxation modulus:      | $E(t)$               | `E_relax`  | MPa    |\n",
    "| Storage modulus:         | $E'(\\omega)$         | `E_stor`   | MPa    |\n",
    "| Loss modulus:            | $E''(\\omega)$        | `E_loss`   | MPa    |\n",
    "| Complex modulus:         | $\\lvert E^{*}\\rvert$ | `E_comp`   | MPa    |\n",
    "| Loss modulus:            | $\\tan(\\delta)$       | `tan_del`  | -      |\n",
    "| Instantaneous modulus:   | $E_0$                | `E_0`      | MPa    |\n",
    "| Equilibrium modulus:     | $E_{inf}$            | `E_inf`    | MPa    |\n",
    "| Angular frequency:       | $\\omega$             | `omega`    | rad/s  |\n",
    "| Frequency:               | $f$                  | `f`        | 1/s    |\n",
    "| Time:                    | $t$                  | `t`        | s      |\n",
    "| Temperature:             | $\\theta$             | `T`        | °C     |\n",
    "| Relaxation times:        | $\\tau  _i$           | `tau_i`    | s      |\n",
    "| Relaxation moduli:       | $E_i$                | `E_i`      | MPa    |\n",
    "| Norm. relaxation moduli: | $\\alpha_i$           | `alpha_i`  | -      |\n",
    "\n",
    "#### Domain\n",
    "This notebook allows for the estimation of Prony series parameters used in a Generalized Maxwell model to describe  linear viscoelastic material behavior. The parameters can be either fitted from measurement data of Dynamic mechanical thermal analysis (DMTA) in the frequency domain (freq) or from relaxation experiments in the time domain (time). \n",
    "\n",
    "#### Instrument\n",
    "DMTA measurements conducted with a Netzsch Gabo DMA EPLEXOR (Eplexor) can be directly uploaded as Excel files. Use the `Excel Export!` feature of the Eplexor software with the default template to create the input files. For measurements conducted with other instruments choose the user option (user) and prepare the input as comma-separated values (csv) files with the following column headers:\n",
    "* **Frequency domain:** header = `f, E_stor, E_loss`, where `f` is the frequency in Hertz (Hz), and ```E_stor``` and `E_loss` are the storage and loss modulus in Megapascal (MPa), respectively.\n",
    "* **Time domain:** header = `t, E_relax`, where `t` is the time in seconds (s), and `E_relax` is the relaxation modulus in MPa.\n",
    "\n",
    "#### Type\n",
    "The data can be provided as measurement sets at different temperatures (raw) or as master curve obtained from time-temperature superposition (master). For raw measurement data the individual temperature sets need to be identified:\n",
    "* **Eplexor:** The notebook identifies the corresponding temperature sets automatically (only available in the frequency domain).\n",
    "* **user:** Two additional columns need to be included in the input file. One column describing the temperature `T` of the measurement point and a second column `Set` to identify the corresponding measurement set of the data point. All measurement points at the same temperature level are marked with the same number, e.g. 0 for the first measurement set. The first measurement set (0) represents the coldest temperature followed by the second set (1) at the next higher temperature level and so forth (see the provided [example input file](https://github.com/martin-springer/LinViscoFit/blob/main/examples/time_user_raw.csv) for further details)."
   ]
  },
  {
   "cell_type": "code",
   "execution_count": 3,
   "metadata": {},
   "outputs": [
    {
     "data": {
      "application/vnd.jupyter.widget-view+json": {
       "model_id": "a5d2c19eed544ec7aa1765c692affd72",
       "version_major": 2,
       "version_minor": 0
      },
      "text/plain": [
       "HBox(children=(RadioButtons(description='Domain:', layout=Layout(height='auto', width='auto'), options=('freq'…"
      ]
     },
     "metadata": {},
     "output_type": "display_data"
    }
   ],
   "source": [
    "display(GUI.w_inp_gen)"
   ]
  },
  {
   "cell_type": "markdown",
   "metadata": {},
   "source": [
    "#### Reference temperature \n",
    "\n",
    "The temperature for which the master curve has been created through time-temperature superpostion. \n",
    "\n",
    "* **Eplexor:** The reference temperature will be automatically extracted from the input file. \n",
    "* **user:** The reference temperature needs to be specified below.\n",
    "  - **master:** Reference temperature of the provided master curve. \n",
    "  - **raw:** Desired reference temperature for the master curve. (The provided temperature will be automatically adjusted to  the closest available temperature level of the measurement sets.)\n",
    "\n",
    "#### Optional shift factor upload\n",
    "* **master:** Uploading the shift factors allows for the calculation of polynomial (D1 to D4) shift functions and the Williams–Landel–Ferry (WLF) shift function, but is not required for the Prony series estimation. \n",
    "> _**Note**_: If a master curve from the Eplexor software is provided, the default behavior of the notebook is to use the WLF shift function from the Eplexor software. However, in the time-temperature superpostion section, a checkbox is provided to overwrite the WLF fit of the Eplexor software and conduct another WLF fit with the algorithm in this notebook.\n",
    "\n",
    "* **raw:** The shift factors can be either directly determined for the desired reference temperature in the time-temperature superposition section (no upload necessary) or user-specified shift factors can be uploaded to be used to create the master curve. "
   ]
  },
  {
   "cell_type": "code",
   "execution_count": 4,
   "metadata": {},
   "outputs": [
    {
     "data": {
      "application/vnd.jupyter.widget-view+json": {
       "model_id": "f65eb1d1e7bf4ed297d053e5e3a7aa1c",
       "version_major": 2,
       "version_minor": 0
      },
      "text/plain": [
       "HBox(children=(FloatText(value=0.0, description='Reference temperature (°C):', layout=Layout(height='auto', wi…"
      ]
     },
     "metadata": {},
     "output_type": "display_data"
    }
   ],
   "source": [
    "display(GUI.w_inp_shift)"
   ]
  },
  {
   "cell_type": "markdown",
   "metadata": {},
   "source": [
    "#### Load and check the provided input files\n",
    "\n",
    "Once all the input parameter are specified and the necessary files are uploaded, click the `Load data` button below. The widgets indicate the detected data."
   ]
  },
  {
   "cell_type": "code",
   "execution_count": 5,
   "metadata": {},
   "outputs": [
    {
     "data": {
      "application/vnd.jupyter.widget-view+json": {
       "model_id": "02b271d4c7fa4a0d838f9d87f8a5d9e1",
       "version_major": 2,
       "version_minor": 0
      },
      "text/plain": [
       "VBox(children=(HBox(children=(Button(button_style='success', description='Load data', layout=Layout(height='au…"
      ]
     },
     "metadata": {},
     "output_type": "display_data"
    }
   ],
   "source": [
    "display(GUI.w_inp_load)"
   ]
  },
  {
   "cell_type": "markdown",
   "metadata": {},
   "source": [
    "***\n",
    "### Time-temperature superposition (shift functions)\n",
    "\n",
    "This section allows the calculation of shift factors from raw input data to create a master curve. The shift factors are used to fit polynomial and WLF shift functions.\n",
    "\n",
    "#### Shift factors $\\log(a_{T})$ - Create master curve from raw input\n",
    "\n",
    "\n",
    "\n",
    "The time-temperature superposition principle is applied to create a master curve from the individual  measurement sets at different temperature levels. \n",
    "\n",
    "> _**Note**_:This subsection only applies to raw measurement data. If a master curve was uploaded, procede to the next step. \n",
    "\n",
    "  * **user shift factors uploaded:** The provided shift factors will be used to create the master curve from the raw measurement sets (_**Note**_: the checkbox below allows to overwrite the uploaded user shift factors and fit new ones). \n",
    "  * **No user shift factors uploaded:** The measurement sets from the raw input file are used to estimate the shift factors and create a master curve. Measurement sets below the desired reference temperatures are shifted to lower frequencies (longer time periods), whereas measurement sets at temperatures higher than the reference temperature are shifted to higher frequencies (shorter time periods). (_**Note**_: In the frequency domain, only the storage modulus input data are considered to create the master curve from the raw input data. The shift factors obtained from the storage modulus master curve are then used to create the loss modulus master curve.)"
   ]
  },
  {
   "cell_type": "code",
   "execution_count": 6,
   "metadata": {},
   "outputs": [
    {
     "data": {
      "application/vnd.jupyter.widget-view+json": {
       "model_id": "cc67bcc51460498aa776fdf1d947d2c6",
       "version_major": 2,
       "version_minor": 0
      },
      "text/plain": [
       "VBox(children=(HBox(children=(Button(button_style='info', description='master raw data', disabled=True, layout…"
      ]
     },
     "metadata": {},
     "output_type": "display_data"
    }
   ],
   "source": [
    "display(GUI.w_aT)"
   ]
  },
  {
   "cell_type": "markdown",
   "metadata": {},
   "source": [
    "#### Shift functions (WLF & Polynomial degree 1 to 4)\n",
    "\n",
    "If shift factors are available, the WLF shift function and polynomial functions of degree 1 to 4 can be fitted and plotted below. (_**Note**_: If the WLF shift functions was already provided by the Eplexor software, the checkbox below let's you overwrite the WLF fit of the Eplexor software with a WLF fit of this notebook.) \n",
    "\n",
    "> _**Note**_:This subsection only provides shift functions and is not required to perform the parameter identification of the Prony series."
   ]
  },
  {
   "cell_type": "code",
   "execution_count": 7,
   "metadata": {},
   "outputs": [
    {
     "data": {
      "application/vnd.jupyter.widget-view+json": {
       "model_id": "371dc1e86d534f6bb073d56bbbadebe2",
       "version_major": 2,
       "version_minor": 0
      },
      "text/plain": [
       "VBox(children=(HBox(children=(Button(button_style='info', description='(fit) & plot shift functions', disabled…"
      ]
     },
     "metadata": {},
     "output_type": "display_data"
    }
   ],
   "source": [
    "display(GUI.w_shift)"
   ]
  },
  {
   "cell_type": "markdown",
   "metadata": {},
   "source": [
    "***\n",
    "### Estimate Prony series parameters\n",
    "\n",
    "#### Pre-process (smooth) master curve\n",
    "\n",
    "A moving median filter to remove outliers in the measurement data can be applied before the Prony series parameters are identified. The window size can be adjusted through the slider above the figure. A window size of 1 means that no filtering procedure is performed and the raw data are fitted."
   ]
  },
  {
   "cell_type": "code",
   "execution_count": 8,
   "metadata": {},
   "outputs": [
    {
     "data": {
      "application/vnd.jupyter.widget-view+json": {
       "model_id": "68692357f7604c28a6c4f706689b393a",
       "version_major": 2,
       "version_minor": 0
      },
      "text/plain": [
       "Button(button_style='info', description='smooth master curve', layout=Layout(height='auto', width='200px'), st…"
      ]
     },
     "metadata": {},
     "output_type": "display_data"
    },
    {
     "data": {
      "application/vnd.jupyter.widget-view+json": {
       "model_id": "50e3da43c5874bccbf73cc182245f2e3",
       "version_major": 2,
       "version_minor": 0
      },
      "text/plain": [
       "Output()"
      ]
     },
     "metadata": {},
     "output_type": "display_data"
    }
   ],
   "source": [
    "display(GUI.b_smooth)\n",
    "display(GUI.out_smooth)"
   ]
  },
  {
   "cell_type": "markdown",
   "metadata": {},
   "source": [
    "#### Define the number and discretization of the Prony series\n",
    "\n",
    "The number of Prony terms, $N$, needs to be defined before the parameter $\\tau_i$ and $\\alpha_i$ can be identified. The `default` behavior is to equally space one Prony term per decade along the logarithmic time axis, $\\tau_i$ = [1E-1, 1E0, 1E1,...] (s). This discretization typically delivers accurate results for engineering applications. \n",
    "> _**Note:**_ The fine discretization can be computationally heavy for using the viscoelastic material models in Finite Element simulations. Hence, the default discretization can be modified by either using the optimization routine provided below or by manually defining the number of Prony terms (`manual`). Additionally, the user can decide whether to round the lowest and highest relaxation times, $\\tau_i$, to the nearest base 10 number within the measurement window `round` or to use the exact minimum and maximum values of the experimental data for the relaxation times `exact`. "
   ]
  },
  {
   "cell_type": "code",
   "execution_count": 9,
   "metadata": {},
   "outputs": [
    {
     "data": {
      "application/vnd.jupyter.widget-view+json": {
       "model_id": "959c9eff87504cb6a994ccbd5c9eb808",
       "version_major": 2,
       "version_minor": 0
      },
      "text/plain": [
       "VBox(children=(HBox(children=(RadioButtons(description='Discretization:', layout=Layout(height='auto', width='…"
      ]
     },
     "metadata": {},
     "output_type": "display_data"
    }
   ],
   "source": [
    "display(GUI.w_dis)"
   ]
  },
  {
   "cell_type": "markdown",
   "metadata": {},
   "source": [
    "#### Curve fitting\n",
    "\n",
    "Two different curve fitting routines for the Prony series parameters are employed and are dependent on the domain of the input data:\n",
    "\n",
    "* **Frequency domain**: A generalized collocation method using stiffness matrices is used as described in [Kraus, M. A., and M. Niederwald. Eur J Eng Mech 37.1 (2017): 82-106](https://journals.ub.ovgu.de/index.php/techmech/article/view/600). This methods utilizes both the storage and loss modulus master curves to estimate the Prony series parameters.\n",
    "   \n",
    "   \n",
    "* **Time domain**: A least-squares minimization is performed with the L-BFGS-B method from the scipy package. The implementation is similar to the optimization problem described by [Barrientos, E., Pelayo, F., Noriega, Á. et al. Mech Time-Depend Mater 23, 193–206 (2019)](https://doi.org/10.1007/s11043-018-9394-z) for a homogenous distribution of discrete times. "
   ]
  },
  {
   "cell_type": "code",
   "execution_count": 10,
   "metadata": {},
   "outputs": [
    {
     "data": {
      "application/vnd.jupyter.widget-view+json": {
       "model_id": "df1cfd187788497dba5f5b5130bdb9b0",
       "version_major": 2,
       "version_minor": 0
      },
      "text/plain": [
       "Button(button_style='info', description='fit Prony series', layout=Layout(height='auto', width='200px'), style…"
      ]
     },
     "metadata": {},
     "output_type": "display_data"
    },
    {
     "data": {
      "application/vnd.jupyter.widget-view+json": {
       "model_id": "d41d9a3724144231826a920eacc0c69a",
       "version_major": 2,
       "version_minor": 0
      },
      "text/plain": [
       "HBox(children=(Output(), Output()), layout=Layout(width='100%'))"
      ]
     },
     "metadata": {},
     "output_type": "display_data"
    }
   ],
   "source": [
    "display(GUI.b_fit)\n",
    "display(GUI.w_out_fit_prony)"
   ]
  },
  {
   "cell_type": "code",
   "execution_count": 11,
   "metadata": {},
   "outputs": [
    {
     "ename": "AttributeError",
     "evalue": "'Control' object has no attribute 'prony'",
     "output_type": "error",
     "traceback": [
      "\u001b[1;31m---------------------------------------------------------------------------\u001b[0m",
      "\u001b[1;31mAttributeError\u001b[0m                            Traceback (most recent call last)",
      "\u001b[1;32m~\\AppData\\Local\\Temp\\1/ipykernel_12712/1869877824.py\u001b[0m in \u001b[0;36m<module>\u001b[1;34m\u001b[0m\n\u001b[1;32m----> 1\u001b[1;33m \u001b[0mtau\u001b[0m \u001b[1;33m=\u001b[0m \u001b[0mGUI\u001b[0m\u001b[1;33m.\u001b[0m\u001b[0mprony\u001b[0m\u001b[1;33m[\u001b[0m\u001b[1;34m'df_terms'\u001b[0m\u001b[1;33m]\u001b[0m\u001b[1;33m[\u001b[0m\u001b[1;34m'tau'\u001b[0m\u001b[1;33m]\u001b[0m\u001b[1;33m.\u001b[0m\u001b[0mvalues\u001b[0m\u001b[1;33m\u001b[0m\u001b[1;33m\u001b[0m\u001b[0m\n\u001b[0m\u001b[0;32m      2\u001b[0m \u001b[0malpha\u001b[0m \u001b[1;33m=\u001b[0m \u001b[0mGUI\u001b[0m\u001b[1;33m.\u001b[0m\u001b[0mprony\u001b[0m\u001b[1;33m[\u001b[0m\u001b[1;34m'df_terms'\u001b[0m\u001b[1;33m]\u001b[0m\u001b[1;33m[\u001b[0m\u001b[1;34m'alpha'\u001b[0m\u001b[1;33m]\u001b[0m\u001b[1;33m.\u001b[0m\u001b[0mvalues\u001b[0m\u001b[1;33m\u001b[0m\u001b[1;33m\u001b[0m\u001b[0m\n\u001b[0;32m      3\u001b[0m \u001b[0mtime\u001b[0m \u001b[1;33m=\u001b[0m \u001b[0mGUI\u001b[0m\u001b[1;33m.\u001b[0m\u001b[0mdf_master\u001b[0m\u001b[1;33m[\u001b[0m\u001b[1;34m't'\u001b[0m\u001b[1;33m]\u001b[0m\u001b[1;33m.\u001b[0m\u001b[0mvalues\u001b[0m\u001b[1;33m\u001b[0m\u001b[1;33m\u001b[0m\u001b[0m\n",
      "\u001b[1;31mAttributeError\u001b[0m: 'Control' object has no attribute 'prony'"
     ]
    }
   ],
   "source": [
    "tau = GUI.prony['df_terms']['tau'].values\n",
    "alpha = GUI.prony['df_terms']['alpha'].values\n",
    "time = GUI.df_master['t'].values"
   ]
  },
  {
   "cell_type": "code",
   "execution_count": null,
   "metadata": {},
   "outputs": [],
   "source": [
    "%%timeit -r1 -n1\n",
    "for i in range(10000):\n",
    "#Reference\n",
    "    visco.prony.E_relax_norm(time, alpha, tau)"
   ]
  },
  {
   "cell_type": "code",
   "execution_count": null,
   "metadata": {},
   "outputs": [],
   "source": [
    "%load_ext Cython"
   ]
  },
  {
   "cell_type": "code",
   "execution_count": null,
   "metadata": {},
   "outputs": [],
   "source": [
    "%%cython -3 -n cE_relax --cplus --compile-args=/openmp \n",
    "#--annotate\n",
    "\n",
    "cimport cython\n",
    "cimport numpy as np\n",
    "import numpy as np\n",
    "\n",
    "from cython.parallel import prange\n",
    "from libc.math cimport exp \n",
    "\n",
    "@cython.boundscheck(False)  # Deactivate bounds checking\n",
    "@cython.wraparound(False)   # Deactivate negative indexing.\n",
    "def cE_relax_norm(np.ndarray[double, ndim=1] time, \n",
    "                  np.ndarray[double, ndim=1] alpha_i,\n",
    "                  np.ndarray[double, ndim=1] tau_i):\n",
    "   \n",
    "    cdef int i, j\n",
    "    cdef np.ndarray [np.float64_t, ndim=1] out = np.empty_like(time, dtype=float)\n",
    "    cdef double temp_sum  \n",
    "\n",
    "    for i in prange(time.shape[0], nogil=True):\n",
    "        temp_sum = 0\n",
    "        for j in range(alpha_i.shape[0]):\n",
    "            temp_sum = temp_sum + alpha_i[j]*(1-exp(-time[i]/tau_i[j]))\n",
    "        out[i] = 1 - temp_sum\n",
    "    return out"
   ]
  },
  {
   "cell_type": "code",
   "execution_count": null,
   "metadata": {},
   "outputs": [],
   "source": [
    "%%timeit -r1 -n1\n",
    "for i in range(10000):\n",
    "    cE_relax_norm(time, alpha, tau)"
   ]
  },
  {
   "cell_type": "code",
   "execution_count": null,
   "metadata": {},
   "outputs": [],
   "source": [
    "from pyLinViscoFit import cython"
   ]
  },
  {
   "cell_type": "code",
   "execution_count": null,
   "metadata": {},
   "outputs": [],
   "source": [
    "%%timeit -r1 -n1\n",
    "for i in range(10000):\n",
    "    cython.cE_relax_norm.func(time, alpha, tau)"
   ]
  },
  {
   "cell_type": "markdown",
   "metadata": {},
   "source": [
    "***\n",
    "#### Generalized Maxwell model\n",
    "\n",
    "The fitted Prony series parameters in combination with the Generalized Maxwell model can be used to calculate the linear viscoelastic material parameters in both the time and frequency domain. "
   ]
  },
  {
   "cell_type": "code",
   "execution_count": 12,
   "metadata": {},
   "outputs": [
    {
     "data": {
      "application/vnd.jupyter.widget-view+json": {
       "model_id": "9c660f02e1544a878b60b0b737980dda",
       "version_major": 2,
       "version_minor": 0
      },
      "text/plain": [
       "Button(button_style='info', description='plot Generalized Maxwell', layout=Layout(height='auto', width='200px'…"
      ]
     },
     "metadata": {},
     "output_type": "display_data"
    },
    {
     "data": {
      "application/vnd.jupyter.widget-view+json": {
       "model_id": "0311ae55422d4a3a961d0f83b4633fe7",
       "version_major": 2,
       "version_minor": 0
      },
      "text/plain": [
       "Output()"
      ]
     },
     "metadata": {},
     "output_type": "display_data"
    }
   ],
   "source": [
    "display(GUI.b_GMaxw)\n",
    "display(GUI.out_GMaxw)"
   ]
  },
  {
   "cell_type": "markdown",
   "metadata": {},
   "source": [
    "***\n",
    "### Optional: Minimize number of Prony elements (for Finite Element simulations)\n",
    "\n",
    "The Generalized Maxwell model in combination with a high number of Prony terms can be computationally expensive. Especially, when used in combination with numerical frameworks as the Finite Element Method. Reducing the number of Prony elements will decrease the accurace of the linear viscoelastic material model, but can help to speed up subsequent numerical simulations.\n",
    "\n",
    "We provide a simple routine to create an additional Generalized Maxwell model with a reduced number of Prony elements. The routine starts with the number of Prony terms specified above and subsequently reduces the number of terms. A least squares minimization is performed to fit the reduced term Prony parameters. The least squares residual is used to suggest an optimal number of Prony terms for subsequent FEM simulations ($R^2 \\approx$ 0.025). However, the user can change this default setting by selecting a different number of Prony terms below.\n",
    "\n",
    "> **_Note:_** This routine is computationally more demanding and can take a few minutes to complete. The runtime depends on the initial number of Prony elements and the number of data points in the measurement sets."
   ]
  },
  {
   "cell_type": "code",
   "execution_count": 13,
   "metadata": {},
   "outputs": [
    {
     "data": {
      "application/vnd.jupyter.widget-view+json": {
       "model_id": "e20f98e190804757b6f047cbb4026664",
       "version_major": 2,
       "version_minor": 0
      },
      "text/plain": [
       "Button(button_style='warning', description='minimize Prony terms', layout=Layout(height='auto', width='200px')…"
      ]
     },
     "metadata": {},
     "output_type": "display_data"
    },
    {
     "data": {
      "application/vnd.jupyter.widget-view+json": {
       "model_id": "c6e84f87c16f4924b30f98e7685e75e8",
       "version_major": 2,
       "version_minor": 0
      },
      "text/plain": [
       "VBox(children=(Output(), HBox(children=(Output(), Output()), layout=Layout(width='100%')), Output()))"
      ]
     },
     "metadata": {},
     "output_type": "display_data"
    }
   ],
   "source": [
    "display(GUI.b_opt)\n",
    "display(GUI.w_out_fit_min)"
   ]
  },
  {
   "cell_type": "code",
   "execution_count": null,
   "metadata": {},
   "outputs": [],
   "source": [
    "%%timeit\n",
    "inter.opt.nprony(GUI.df_master, GUI.prony, window='min')"
   ]
  },
  {
   "cell_type": "markdown",
   "metadata": {},
   "source": [
    "***\n",
    "### Download results\n",
    "\n",
    "A zip archive including the identified Prony series parameters, (shift factors and shift functions), results of the Generalized Maxwell model, and figures can be dowloaded below."
   ]
  },
  {
   "cell_type": "code",
   "execution_count": null,
   "metadata": {},
   "outputs": [],
   "source": [
    "display(GUI.db_zip)\n",
    "display(GUI.out_html)"
   ]
  },
  {
   "cell_type": "markdown",
   "metadata": {},
   "source": [
    "***\n",
    "### Start over! - Clear all input data and reload an empty notebook."
   ]
  },
  {
   "cell_type": "code",
   "execution_count": null,
   "metadata": {},
   "outputs": [],
   "source": [
    "display(GUI.b_reload)"
   ]
  },
  {
   "cell_type": "code",
   "execution_count": null,
   "metadata": {},
   "outputs": [],
   "source": []
  },
  {
   "cell_type": "code",
   "execution_count": null,
   "metadata": {},
   "outputs": [],
   "source": []
  },
  {
   "cell_type": "code",
   "execution_count": null,
   "metadata": {},
   "outputs": [],
   "source": []
  }
 ],
 "metadata": {
  "kernelspec": {
   "display_name": "Python 3 (ipykernel)",
   "language": "python",
   "name": "python3"
  },
  "language_info": {
   "codemirror_mode": {
    "name": "ipython",
    "version": 3
   },
   "file_extension": ".py",
   "mimetype": "text/x-python",
   "name": "python",
   "nbconvert_exporter": "python",
   "pygments_lexer": "ipython3",
   "version": "3.9.7"
  },
  "voila": {
   "template": "classic"
  }
 },
 "nbformat": 4,
 "nbformat_minor": 4
}

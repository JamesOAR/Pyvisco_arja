{
 "cells": [
  {
   "cell_type": "markdown",
   "metadata": {},
   "source": [
    "# Linear Viscoelasticity\n",
    "M. Springer | 2022 v0.1 \n",
    "\n",
    "***\n",
    "\n",
    "\n",
    "## Estimate Prony series parameter for Generalized Maxwell model "
   ]
  },
  {
   "cell_type": "code",
   "execution_count": 15,
   "metadata": {},
   "outputs": [],
   "source": [
    "%matplotlib widget\n",
    "\n",
    "import LinViscoFit as visco\n",
    "#import ipywidgets as widgets\n",
    "\n",
    "#import pandas as pd\n",
    "#import io\n",
    "#import os\n",
    "\n",
    "#from IPython.display import display, clear_output, HTML\n",
    "#from base64 import b64encode\n",
    "#import matplotlib.pyplot as plt\n",
    "#pd.set_option('display.float_format', '{:.5e}'.format)\n",
    "\n",
    "visco.format_fig()\n",
    "GUI = visco.GUIControl()"
   ]
  },
  {
   "cell_type": "markdown",
   "metadata": {},
   "source": [
    "***\n",
    "### Specify and upload input data\n",
    "\n",
    "#### Domain\n",
    "This notebook allows for the estimation of Prony series parameters used in a Generalized Maxwell model to describe the linear viscoelastic behavior of polymer materials. The parameters can be either fitted from measurement data of Dynamic mechanical thermal analysis (DMTA) in the frequency domain (freq) or from relaxation experiments in the time domain (time). \n",
    "\n",
    "#### Instrument\n",
    "DMTA measurements conducted with a Netzsch Gabo DMA EPLEXOR (Eplexor) can be directly uploaded in this notebook as Excel files. For measurements conducted with other instruments choose the user option (user) and preprocess the input files to be provided in comma-separated values (csv) format with the following columns header:\n",
    "* **Frequency domain:** header = *'f, E_stor, E_loss'*, where *f* is the frequency in Hertz (Hz), and *E_stor* and *E_loss* are the storage and loss modulus in Megapascal (MPa), respectively.\n",
    "* **Time domain:** header = *'t, E_relax'*, where *t* is the time in seconds (s), and *E_relax* is the relaxation modulus in MPa.\n",
    "\n",
    "#### Type\n",
    "The data can be provided as measurement sets at different temperatures (raw) or as master curve obtained from time-temperature superposition (master). If measurements at different temperatures are provided (raw) the individual temperature sets need to be identified. \n",
    "* **Eplexor** The notebook identifies the corresponding temperature sets automatically (only available in the frequency domain).\n",
    "* **user** An additional column with the header 'Set' is necessary to identify the measurement sets from the input file. All measurements of the same temperature set are marked with the same number, e.g. 1 for all measurements in the the first temperature set. The first tempeature set (1) represents the coldest temperature followed by the second set (2) at the next higher temperature and so forth (see the provided example input files for further details).\n",
    "\n",
    "[Example input files](https://github.com/martin-springer/LinViscoFit/tree/main/examples)"
   ]
  },
  {
   "cell_type": "code",
   "execution_count": 2,
   "metadata": {},
   "outputs": [
    {
     "data": {
      "application/vnd.jupyter.widget-view+json": {
       "model_id": "862cdaec2e91430eafe3707ddaf136fc",
       "version_major": 2,
       "version_minor": 0
      },
      "text/plain": [
       "HBox(children=(RadioButtons(description='Domain:', layout=Layout(height='auto', width='auto'), options=('freq'…"
      ]
     },
     "metadata": {},
     "output_type": "display_data"
    }
   ],
   "source": [
    "display(GUI.w_inp_gen)"
   ]
  },
  {
   "cell_type": "markdown",
   "metadata": {},
   "source": [
    "#### Reference temperature \n",
    "\n",
    "Reference temperature refers to the temperature for which the master curve has been created through time-temperature superpostion. \n",
    "\n",
    "If a master curve from the Eplexor software is provided the reference temperature will be automatically extracted. \n",
    "\n",
    "For all other options please provide either the reference temperature of the user-specified master curve or the desired reference temperature for the time-temperature superposition of the raw data (for raw data the desired reference temperature will be automatically adjusted to align with the closest provided temperature set of the measurement input file).\n",
    "\n",
    "#### Optional shift factor upload\n",
    "If master curves are provided, the shift factor upload is optional and allows for the calculation of polynomial (D1 to D4) shift functions and the Williams–Landel–Ferry (WLF) shift function, but is not required for the Prony series estimation. \n",
    "\n",
    "If a master curve from created by the Eplexor software is provided, the default behavior of the notebook is to use the WLF shift function from the Eplexor software. However, in the time-temperature superpostion section, a checkbox is provided to overwrite the WLF fit of the Eplexor software and conduct another WLF fit with the algorithm in this notebook, which is then used to estimate the Prony series parameters.\n",
    "\n",
    "If raw measurement data are provided (for both Eplexor or user), the shift factors can be either determined for the desired reference temperature in the time-temperature superposition section or user-specified shift factors can be uploaded to be used to create the master curve. "
   ]
  },
  {
   "cell_type": "code",
   "execution_count": 3,
   "metadata": {},
   "outputs": [
    {
     "data": {
      "application/vnd.jupyter.widget-view+json": {
       "model_id": "445cdb9eaf994c9892e4f067b9d5d0c9",
       "version_major": 2,
       "version_minor": 0
      },
      "text/plain": [
       "HBox(children=(FloatText(value=0.0, description='Reference temperature (C):', layout=Layout(height='auto', wid…"
      ]
     },
     "metadata": {},
     "output_type": "display_data"
    }
   ],
   "source": [
    "display(GUI.w_inp_shift)"
   ]
  },
  {
   "cell_type": "markdown",
   "metadata": {},
   "source": [
    "#### Load and check the provided input files"
   ]
  },
  {
   "cell_type": "markdown",
   "metadata": {},
   "source": [
    "Once all the input parameter are specified and the necessary files are uploaded click the *Load data* button below. If the input files could be loaded successfully, the widgets will indicate the state of the uploaded data."
   ]
  },
  {
   "cell_type": "code",
   "execution_count": 4,
   "metadata": {},
   "outputs": [
    {
     "data": {
      "application/vnd.jupyter.widget-view+json": {
       "model_id": "4aee489be57946d38b8ca554e78737c7",
       "version_major": 2,
       "version_minor": 0
      },
      "text/plain": [
       "HBox(children=(Button(button_style='success', description='Load data', layout=Layout(height='auto', width='200…"
      ]
     },
     "metadata": {},
     "output_type": "display_data"
    },
    {
     "data": {
      "application/vnd.jupyter.widget-view+json": {
       "model_id": "64f5adcb214e43a1b72e4aff795fc378",
       "version_major": 2,
       "version_minor": 0
      },
      "text/plain": [
       "HBox(children=(Valid(value=False, description='modulus data', layout=Layout(height='auto', width='auto'), read…"
      ]
     },
     "metadata": {},
     "output_type": "display_data"
    }
   ],
   "source": [
    "display(GUI.w_inp_load)\n",
    "display(GUI.w_inp_check)"
   ]
  },
  {
   "cell_type": "markdown",
   "metadata": {},
   "source": [
    "***\n",
    "### Time-temperature superposition (shift functions)"
   ]
  },
  {
   "cell_type": "markdown",
   "metadata": {},
   "source": [
    "This section allows to either plot the provided shift factors and shift functions for master curve inputs or allows for determining shift factors and functions from raw input data."
   ]
  },
  {
   "cell_type": "markdown",
   "metadata": {},
   "source": [
    "#### Shift factors log(a_T)"
   ]
  },
  {
   "cell_type": "code",
   "execution_count": 5,
   "metadata": {},
   "outputs": [
    {
     "data": {
      "application/vnd.jupyter.widget-view+json": {
       "model_id": "8ed82f1afc5944e8bb6c2f0cad804f7b",
       "version_major": 2,
       "version_minor": 0
      },
      "text/plain": [
       "VBox(children=(HBox(children=(Button(button_style='info', description='(fit) & plot shift factors', layout=Lay…"
      ]
     },
     "metadata": {},
     "output_type": "display_data"
    }
   ],
   "source": [
    "display(GUI.w_aT)"
   ]
  },
  {
   "cell_type": "markdown",
   "metadata": {},
   "source": [
    "#### Shift functions (WLF & Polynomial degree 1 to 4)"
   ]
  },
  {
   "cell_type": "code",
   "execution_count": 6,
   "metadata": {},
   "outputs": [
    {
     "data": {
      "application/vnd.jupyter.widget-view+json": {
       "model_id": "85bf5cc2b8eb4c4fbea52e240e15646b",
       "version_major": 2,
       "version_minor": 0
      },
      "text/plain": [
       "VBox(children=(HBox(children=(Button(button_style='info', description='(fit) & plot shift functions', layout=L…"
      ]
     },
     "metadata": {},
     "output_type": "display_data"
    }
   ],
   "source": [
    "display(GUI.w_shift)"
   ]
  },
  {
   "cell_type": "markdown",
   "metadata": {},
   "source": [
    "***\n",
    "### Pre-process (smooth) master curve"
   ]
  },
  {
   "cell_type": "markdown",
   "metadata": {},
   "source": [
    "A moving median filter to remove outliers in the measurements can be applied before the Prony series terms are estimated. The window size (win) can be adjusted through the slider. A window size of 1 means that no filtering procedure is performed and the raw data are fitted. "
   ]
  },
  {
   "cell_type": "code",
   "execution_count": 7,
   "metadata": {
    "scrolled": false
   },
   "outputs": [
    {
     "data": {
      "application/vnd.jupyter.widget-view+json": {
       "model_id": "a28084559ffe447eb1292b2cab133423",
       "version_major": 2,
       "version_minor": 0
      },
      "text/plain": [
       "Button(button_style='info', description='smooth master curve', layout=Layout(height='auto', width='200px'), st…"
      ]
     },
     "metadata": {},
     "output_type": "display_data"
    },
    {
     "data": {
      "application/vnd.jupyter.widget-view+json": {
       "model_id": "394d6a0c1bfd4378b18e4b48e236a116",
       "version_major": 2,
       "version_minor": 0
      },
      "text/plain": [
       "Output()"
      ]
     },
     "metadata": {},
     "output_type": "display_data"
    }
   ],
   "source": [
    "display(GUI.b_smooth)\n",
    "display(GUI.out_smooth)"
   ]
  },
  {
   "cell_type": "markdown",
   "metadata": {},
   "source": [
    "***\n",
    "### Estimate Prony series parameters"
   ]
  },
  {
   "cell_type": "markdown",
   "metadata": {},
   "source": [
    "#### Define the number and discretization of the Prony terms\n",
    "\n",
    "The default behavior is to apply an equidistant logarithmical spacing along the time axis and use one Prony term per decade. "
   ]
  },
  {
   "cell_type": "code",
   "execution_count": 8,
   "metadata": {},
   "outputs": [
    {
     "data": {
      "application/vnd.jupyter.widget-view+json": {
       "model_id": "ae2b1445a0884c919af8baf89470e061",
       "version_major": 2,
       "version_minor": 0
      },
      "text/plain": [
       "Button(button_style='info', description='plot discretization', layout=Layout(height='auto', width='200px'), st…"
      ]
     },
     "metadata": {},
     "output_type": "display_data"
    },
    {
     "data": {
      "application/vnd.jupyter.widget-view+json": {
       "model_id": "88dbba77f9e34dfab7c356a633c8242a",
       "version_major": 2,
       "version_minor": 0
      },
      "text/plain": [
       "Output()"
      ]
     },
     "metadata": {},
     "output_type": "display_data"
    }
   ],
   "source": [
    "# apply filter\n",
    "display(GUI.b_dis)\n",
    "display(GUI.out_dis)"
   ]
  },
  {
   "cell_type": "markdown",
   "metadata": {},
   "source": [
    "#### Curve fitting\n",
    "\n",
    "Frequency domain: GUSTL\n",
    "Time domain: least squares optimization"
   ]
  },
  {
   "cell_type": "code",
   "execution_count": 9,
   "metadata": {},
   "outputs": [
    {
     "data": {
      "application/vnd.jupyter.widget-view+json": {
       "model_id": "f251795efe6844a9b873bf87a8bb33b7",
       "version_major": 2,
       "version_minor": 0
      },
      "text/plain": [
       "Button(button_style='danger', description='fit Prony series', layout=Layout(height='auto', width='200px'), sty…"
      ]
     },
     "metadata": {},
     "output_type": "display_data"
    },
    {
     "data": {
      "application/vnd.jupyter.widget-view+json": {
       "model_id": "b80b6ba0be744efe809d22ed80187039",
       "version_major": 2,
       "version_minor": 0
      },
      "text/plain": [
       "Output()"
      ]
     },
     "metadata": {},
     "output_type": "display_data"
    }
   ],
   "source": [
    "# fit Prony series\n",
    "display(GUI.b_fit)\n",
    "display(GUI.out_fit)"
   ]
  },
  {
   "cell_type": "markdown",
   "metadata": {},
   "source": [
    "***\n",
    "### Generalized Maxwell model"
   ]
  },
  {
   "cell_type": "code",
   "execution_count": 10,
   "metadata": {},
   "outputs": [
    {
     "data": {
      "application/vnd.jupyter.widget-view+json": {
       "model_id": "220dab166dc247eead5cfc872d8cea33",
       "version_major": 2,
       "version_minor": 0
      },
      "text/plain": [
       "Button(button_style='info', description='Plot Gen. Maxwell', layout=Layout(height='auto', width='200px'), styl…"
      ]
     },
     "metadata": {},
     "output_type": "display_data"
    },
    {
     "data": {
      "application/vnd.jupyter.widget-view+json": {
       "model_id": "22c45c27030046588378e1c1fad8096b",
       "version_major": 2,
       "version_minor": 0
      },
      "text/plain": [
       "Output()"
      ]
     },
     "metadata": {},
     "output_type": "display_data"
    }
   ],
   "source": [
    "display(GUI.b_GMaxw)\n",
    "display(GUI.out_GMaxw)\n"
   ]
  },
  {
   "cell_type": "markdown",
   "metadata": {},
   "source": [
    "***\n",
    "### Download results"
   ]
  },
  {
   "cell_type": "code",
   "execution_count": 11,
   "metadata": {},
   "outputs": [
    {
     "data": {
      "application/vnd.jupyter.widget-view+json": {
       "model_id": "ad1145bac72d4685b0c6200fe7bdab94",
       "version_major": 2,
       "version_minor": 0
      },
      "text/plain": [
       "Button(button_style='warning', description='Download zip', layout=Layout(height='auto', width='200px'), style=…"
      ]
     },
     "metadata": {},
     "output_type": "display_data"
    }
   ],
   "source": [
    "display(GUI.db_zip)"
   ]
  },
  {
   "cell_type": "code",
   "execution_count": 12,
   "metadata": {},
   "outputs": [
    {
     "data": {
      "application/vnd.jupyter.widget-view+json": {
       "model_id": "f399941c0e64451cbcc05dd86df1ee1c",
       "version_major": 2,
       "version_minor": 0
      },
      "text/plain": [
       "Button(button_style='warning', description='Download Prony series', layout=Layout(height='auto', width='200px'…"
      ]
     },
     "metadata": {},
     "output_type": "display_data"
    }
   ],
   "source": [
    "#old\n",
    "display(GUI.db_prony)"
   ]
  },
  {
   "cell_type": "markdown",
   "metadata": {},
   "source": [
    "***\n",
    "### Start over"
   ]
  },
  {
   "cell_type": "code",
   "execution_count": 13,
   "metadata": {},
   "outputs": [
    {
     "data": {
      "application/vnd.jupyter.widget-view+json": {
       "model_id": "709a8dfaea194bf4b805718bb2602d50",
       "version_major": 2,
       "version_minor": 0
      },
      "text/plain": [
       "Button(button_style='danger', description='Clear notebook!', layout=Layout(height='auto', width='200px'), styl…"
      ]
     },
     "metadata": {},
     "output_type": "display_data"
    },
    {
     "data": {
      "application/vnd.jupyter.widget-view+json": {
       "model_id": "f74d86f0d4474e25abe5bf4a94c5263f",
       "version_major": 2,
       "version_minor": 0
      },
      "text/plain": [
       "Output()"
      ]
     },
     "metadata": {},
     "output_type": "display_data"
    }
   ],
   "source": [
    "display(GUI.b_reload)\n",
    "display(GUI.out_html)"
   ]
  },
  {
   "cell_type": "code",
   "execution_count": null,
   "metadata": {},
   "outputs": [],
   "source": []
  },
  {
   "cell_type": "markdown",
   "metadata": {},
   "source": [
    "***\n",
    "## Verification - Compare with Ansys"
   ]
  },
  {
   "cell_type": "raw",
   "metadata": {},
   "source": [
    "#Eplexor raw\n",
    "#epl_raw = visco.load_file('Eplexor_Input\\\\T150_tfs_raw.xls')\n",
    "\n",
    "#df_raw = visco.load_Eplexor_raw(epl_raw)"
   ]
  },
  {
   "cell_type": "raw",
   "metadata": {},
   "source": [
    "#Eplexor master\n",
    "#epl = visco.load_file('Eplexor_Input\\\\T150_tfs_master.xls')\n",
    "\n",
    "#df_master, df_aT, df_WLF, df_master_raw = visco.load_Eplexor_master(epl)"
   ]
  },
  {
   "cell_type": "raw",
   "metadata": {},
   "source": [
    "#Load user master\n",
    "data = visco.load_file('Verification\\\\ANSYS_Frequency\\\\input_master.csv')\n",
    "shift = visco.load_file('Verification\\\\ANSYS_Frequency\\\\shift_factors.csv')\n",
    "RefT = -5\n",
    "domain = 'freq'\n",
    "df_master, df_aT = visco.load_user_master(data, domain, RefT, shift)"
   ]
  },
  {
   "cell_type": "raw",
   "metadata": {},
   "source": [
    "#Shift function\n",
    "df_WLF = visco.fit_shift_WLF(df_master.RefT, df_aT)\n",
    "df_poly = visco.fit_shift_poly(df_aT)\n",
    "\n",
    "fig_shift, df_shift = visco.plot_shift_func(df_aT, df_WLF, df_poly)"
   ]
  },
  {
   "cell_type": "raw",
   "metadata": {},
   "source": [
    "#Smooth\n",
    "win = 5\n",
    "df_master = visco.smooth(df_master, win)\n",
    "fig_smooth = visco.plot_smooth(df_master)"
   ]
  },
  {
   "cell_type": "raw",
   "metadata": {},
   "source": [
    "#Discretization\n",
    "\n",
    "df_dis = visco.discretize(df_master)\n",
    "fig_dis = visco.plot_dis(df_master, df_dis)"
   ]
  },
  {
   "cell_type": "raw",
   "metadata": {},
   "source": [
    "#Prony fit\n",
    "\n",
    "if domain == 'freq':\n",
    "    prony = visco.fit_prony_freq(df_dis)\n",
    "elif domain == 'time':\n",
    "    prony = visco.fit_prony_time(df_dis, df_master)\n",
    "\n",
    "df_GMaxw = visco.calc_GenMaxw(**prony)\n",
    "fig_fit = visco.plot_fit(df_master, df_GMaxw)\n"
   ]
  },
  {
   "cell_type": "raw",
   "metadata": {},
   "source": [
    "#Gen. Maxwell\n",
    "fig_GMaxw_freq, fig_GMaxw_time = visco.plot_GMaxw(df_GMaxw);"
   ]
  },
  {
   "cell_type": "raw",
   "metadata": {},
   "source": [
    "#Comparison ANSYS\n",
    "\n",
    "df_prony_ANSYS = visco.load_prony_ANSYS('Verification\\\\ANSYS_Frequency\\\\prony_terms.MPL')\n",
    "prony_ANSYS = visco.prep_prony_ANSYS(df_prony_ANSYS, prony)\n",
    "df_GMaxw_ANSYS = visco.calc_GenMaxw(**prony_ANSYS)\n",
    "fig_fit_ANSYS = visco.plot_fit_ANSYS(df_master, df_GMaxw, df_GMaxw_ANSYS)"
   ]
  },
  {
   "cell_type": "raw",
   "metadata": {},
   "source": [
    "fig_prony_coeff = visco.plot_prony_coeff([prony, prony_ANSYS])"
   ]
  },
  {
   "cell_type": "raw",
   "metadata": {},
   "source": [
    "## Optimization of number of prony terms"
   ]
  },
  {
   "cell_type": "raw",
   "metadata": {},
   "source": [
    "prony_opt = visco.optimize(prony)\n",
    "fig = visco.plot_prony_coeff([prony, prony_opt])"
   ]
  },
  {
   "cell_type": "raw",
   "metadata": {},
   "source": [
    "df_GMaxw_opt = visco.calc_GenMaxw(**prony_opt)\n",
    "fig = visco.plot_fit(df_master, df_GMaxw_opt)"
   ]
  },
  {
   "cell_type": "code",
   "execution_count": null,
   "metadata": {},
   "outputs": [],
   "source": []
  }
 ],
 "metadata": {
  "kernelspec": {
   "display_name": "Python 3 (ipykernel)",
   "language": "python",
   "name": "python3"
  },
  "language_info": {
   "codemirror_mode": {
    "name": "ipython",
    "version": 3
   },
   "file_extension": ".py",
   "mimetype": "text/x-python",
   "name": "python",
   "nbconvert_exporter": "python",
   "pygments_lexer": "ipython3",
   "version": "3.9.7"
  },
  "voila": {
   "template": "classic"
  }
 },
 "nbformat": 4,
 "nbformat_minor": 4
}

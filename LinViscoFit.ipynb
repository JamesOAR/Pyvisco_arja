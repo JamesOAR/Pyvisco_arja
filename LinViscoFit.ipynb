{
 "cells": [
  {
   "cell_type": "markdown",
   "metadata": {},
   "source": [
    "# Prony series identification for linear viscoelastic material models\n",
    "M. Springer | 2022 v0.1 \n",
    "\n",
    "***\n",
    "\n",
    "\n",
    "## Background - Linear viscoelasticity\n",
    "\n",
    "Theory of linear viscoelasticity is used to describe the mechanical response of polymer materials under small strain conditions. An extensive review can be found in [Brinson H. F., Brinson L. C,. Polymer Engineering Science and Viscoelasticity,\n",
    "Springer, 2015]. The summary below was extracted from [Springer, M., and Bosco N. Progress in Photovoltaics: Research and Applications 28.7 (2020): 659-681]\n",
    "\n",
    "The rate-dependent material behavior can be described in either the time or frequency domain. In the time domain, the uniaxial, nonaging, isothermal stress-strain equation for a linear viscoelastic material can be represented by a Boltzmann superposition integral,\n",
    "\n",
    "\\begin{equation}\n",
    "\\sigma(t) = \\int_0^t E(t-\\tau) \\frac{\\mathrm{d \\varepsilon(\\tau)}}{\\mathrm{d} \\tau} \\mathrm{d} \\tau \\quad ,\n",
    "\\end{equation}\n",
    "\n",
    "where $\\sigma(t)$ is the stress response over time, $t$; $E(t)$ is the relaxation modulus; $\\varepsilon$ denotes the strain; and $\\tau$ is the integration variable. The limiting moduli for the viscoelastic material are defined as the instantaneous modulus, $E(t=0) = E_0$, and the equilibrium modulus, i.e., $E(t) \\rightarrow E_{\\infty}$ for $t \\rightarrow \\infty$. \n",
    "\n",
    "The Generalized Maxwell Model is commonly used to represent the stress-strain response of polymers. The relaxation modulus derived from this model is given by,\n",
    "\n",
    "\\begin{equation}\n",
    "E(t) = E_{\\infty} + \\sum\\limits_{i=1}^{m} E_i \\exp\\left(-\\frac{t}{\\tau_i} \\right) \\quad ,\n",
    "\\label{eq:RelProny}\n",
    "\\end{equation}\n",
    "\n",
    "where $\\tau_i$ (relaxation times),  $E_i = E_0 \\alpha_i$ (relaxation moduli) are material properties, and $m$ is the number of terms in the series. The above equation is often referred to as Prony series, and the equilibrium modulus can be defined by the Prony series as,\n",
    "\n",
    "\\begin{equation}\n",
    "\tE_{\\infty} = E_0 \\left[1-\\sum_{i=1}^N \\alpha_i \\right] \\quad .\n",
    "\\end{equation}\n",
    "\n",
    "The material properties can be directly obtained from relaxation or frequency-dependent test data. Material properties measured in the time domain can be converted into the frequency domain, and vice versa, by making use of a Fourier transformation,\n",
    "\n",
    "\\begin{align}\n",
    "E'(\\omega) &= E_{\\infty} + \\sum\\limits_{i=1}^{m}\\frac{\\omega^2 \\tau_i^2 E_i}{\\omega^2 \\tau_i^2 + 1} \\quad ,\n",
    "\\label{eq:PronyStor} \\\\\n",
    "E''(\\omega) &= \\sum\\limits_{i=1}^{m} \\frac{\\omega \\tau_i E_i}{\\omega^2 \\tau_i^2 +1} \\quad .\n",
    "\\label{eq:PronyLoss}\n",
    "\\end{align}\n",
    "\n",
    "Herein, $E'(\\omega)$ is the storage modulus, $E''(\\omega)$ is the loss modulus, and $\\omega = 2 \\pi f$ is the angular frequency, where $f=1/t$ is the frequency in Hertz and $t$ is the time period in seconds, respectively. The complex modulus, $E^*(\\omega)$, and the loss factor, $\\tan(\\delta)$, are given as,\n",
    "\n",
    "\\begin{align}\n",
    "E^*(\\omega) &= E'(\\omega)  + i E''(\\omega) \\quad \\text{and} \\\\\n",
    "\\tan(\\delta)  & =  \\frac{E''(\\omega)}{E'(\\omega)} \\quad ,\n",
    "\\end{align}\n",
    "\n",
    "respectively.\n",
    "\n",
    "For thermo-rheologically simple materials the time-temperature superposition principle (TTSP) can be applied. For such materials, the viscoelastic response at one temperature is related to the viscoelastic response at another temperature\n",
    "by changing the time scale (or frequency). This way, the time scale for the materials characterization can be extended by conducting the same frequency measurements at different temperatures. Afterward, a reference temperature is selected, and the isothermal measurements are shifted on a logarithmic time (or frequency) scale to form a so–called master curve.\n",
    "\n",
    "![TTSP](figures/TTSP.png){:height=\"50%\" width=\"50%\"}\n",
    "\n",
    "<img src=\"figures/TTSP.png\" width=\"500\" >"
   ]
  },
  {
   "cell_type": "code",
   "execution_count": 15,
   "metadata": {},
   "outputs": [],
   "source": [
    "%matplotlib widget\n",
    "\n",
    "import LinViscoFit as visco\n",
    "#import ipywidgets as widgets\n",
    "\n",
    "#import pandas as pd\n",
    "#import io\n",
    "#import os\n",
    "\n",
    "#from IPython.display import display, clear_output, HTML\n",
    "#from base64 import b64encode\n",
    "#import matplotlib.pyplot as plt\n",
    "#pd.set_option('display.float_format', '{:.5e}'.format)\n",
    "\n",
    "visco.format_fig()\n",
    "GUI = visco.GUIControl()"
   ]
  },
  {
   "cell_type": "markdown",
   "metadata": {},
   "source": [
    "***\n",
    "## Parameter estimation\n",
    "\n",
    "The linear viscoelastic curve fitting routine in this notebook allos for experimental data in both the time and frequency domains. The following code convetions are used within this notebook:\n",
    "\n",
    "| Physical quantity      | Symbol          | Variable       |\n",
    "| :--------------------- | :-------------: | :------------- |\n",
    "| Relaxation modulus:    | $E(t)$          | ```E_relax```  |\n",
    "| Storage modulus:       | $E'(\\omega)$    | ```E_stor```   |\n",
    "| Loss modulus:          | $E''(\\omega)$   | ```E_loss```   |\n",
    "| Complex modulus:       | $|E^{*}|$       | ```E_comp```   |\n",
    "| Loss modulus:          | $\\tan(\\delta)$  | ```tan_del```  |\n",
    "| Instantaneous modulus: | $E_0$           | ```E_0```      |\n",
    "| Equilibrium modulus:   | $E_{inf}$       | ```E_inf```    |\n",
    "| Angular frequency:     | $\\omega$        | ```omega```    |\n",
    "| Frequency:             | $f$             | ```f```        |\n",
    "| Time:                  | $t$             | ```t```        |\n",
    "| Temperature:           | $\\theta$        | ```T```        |\n",
    "\n",
    "\n",
    "### Specify and upload input data\n",
    "\n",
    "#### Domain\n",
    "This notebook allows for the estimation of Prony series parameters used in a Generalized Maxwell model to describe the linear viscoelastic behavior of polymer materials. The parameters can be either fitted from measurement data of Dynamic mechanical thermal analysis (DMTA) in the frequency domain (freq) or from relaxation experiments in the time domain (time). \n",
    "\n",
    "#### Instrument\n",
    "DMTA measurements conducted with a Netzsch Gabo DMA EPLEXOR (Eplexor) can be directly uploaded in this notebook as Excel files. For measurements conducted with other instruments choose the user option (user) and preprocess the input files to be provided in comma-separated values (csv) format with the following columns header:\n",
    "* **Frequency domain:** header = ```f, E_stor, E_loss```, where ```f``` is the frequency in Hertz (Hz), and ```E_stor``` and *E_loss* are the storage and loss modulus in Megapascal (MPa), respectively.\n",
    "* **Time domain:** header = ```t, E_relax```, where ```t``` is the time in seconds (s), and ```E_relax``` is the relaxation modulus in MPa.\n",
    "\n",
    "#### Type\n",
    "The data can be provided as measurement sets at different temperatures (raw) or as master curve obtained from time-temperature superposition (master). If measurements at different temperatures are provided (raw) the individual temperature sets need to be identified. \n",
    "* **Eplexor** The notebook identifies the corresponding temperature sets automatically (only available in the frequency domain).\n",
    "* **user** An additional column with the header 'Set' is necessary to identify the measurement sets from the input file. All measurements of the same temperature set are marked with the same number, e.g. 1 for all measurements in the the first temperature set. The first tempeature set (1) represents the coldest temperature followed by the second set (2) at the next higher temperature and so forth (see the provided example input files for further details).\n",
    "\n",
    "[Example input files](https://github.com/martin-springer/LinViscoFit/tree/main/examples)"
   ]
  },
  {
   "cell_type": "code",
   "execution_count": null,
   "metadata": {},
   "outputs": [],
   "source": []
  },
  {
   "cell_type": "code",
   "execution_count": 2,
   "metadata": {},
   "outputs": [
    {
     "data": {
      "application/vnd.jupyter.widget-view+json": {
       "model_id": "862cdaec2e91430eafe3707ddaf136fc",
       "version_major": 2,
       "version_minor": 0
      },
      "text/plain": [
       "HBox(children=(RadioButtons(description='Domain:', layout=Layout(height='auto', width='auto'), options=('freq'…"
      ]
     },
     "metadata": {},
     "output_type": "display_data"
    }
   ],
   "source": [
    "display(GUI.w_inp_gen)"
   ]
  },
  {
   "cell_type": "markdown",
   "metadata": {},
   "source": [
    "#### Reference temperature \n",
    "\n",
    "Reference temperature refers to the temperature for which the master curve has been created through time-temperature superpostion. \n",
    "\n",
    "If a master curve from the Eplexor software is provided the reference temperature will be automatically extracted. \n",
    "\n",
    "For all other options please provide either the reference temperature of the user-specified master curve or the desired reference temperature for the time-temperature superposition of the raw data (for raw data the desired reference temperature will be automatically adjusted to align with the closest provided temperature set of the measurement input file).\n",
    "\n",
    "#### Optional shift factor upload\n",
    "If master curves are provided, the shift factor upload is optional and allows for the calculation of polynomial (D1 to D4) shift functions and the Williams–Landel–Ferry (WLF) shift function, but is not required for the Prony series estimation. \n",
    "\n",
    "If a master curve from created by the Eplexor software is provided, the default behavior of the notebook is to use the WLF shift function from the Eplexor software. However, in the time-temperature superpostion section, a checkbox is provided to overwrite the WLF fit of the Eplexor software and conduct another WLF fit with the algorithm in this notebook, which is then used to estimate the Prony series parameters.\n",
    "\n",
    "If raw measurement data are provided (for both Eplexor or user), the shift factors can be either determined for the desired reference temperature in the time-temperature superposition section or user-specified shift factors can be uploaded to be used to create the master curve. "
   ]
  },
  {
   "cell_type": "code",
   "execution_count": 3,
   "metadata": {},
   "outputs": [
    {
     "data": {
      "application/vnd.jupyter.widget-view+json": {
       "model_id": "445cdb9eaf994c9892e4f067b9d5d0c9",
       "version_major": 2,
       "version_minor": 0
      },
      "text/plain": [
       "HBox(children=(FloatText(value=0.0, description='Reference temperature (C):', layout=Layout(height='auto', wid…"
      ]
     },
     "metadata": {},
     "output_type": "display_data"
    }
   ],
   "source": [
    "display(GUI.w_inp_shift)"
   ]
  },
  {
   "cell_type": "markdown",
   "metadata": {},
   "source": [
    "#### Load and check the provided input files"
   ]
  },
  {
   "cell_type": "markdown",
   "metadata": {},
   "source": [
    "Once all the input parameter are specified and the necessary files are uploaded click the *Load data* button below. If the input files could be loaded successfully, the widgets will indicate the state of the uploaded data."
   ]
  },
  {
   "cell_type": "code",
   "execution_count": 4,
   "metadata": {},
   "outputs": [
    {
     "data": {
      "application/vnd.jupyter.widget-view+json": {
       "model_id": "4aee489be57946d38b8ca554e78737c7",
       "version_major": 2,
       "version_minor": 0
      },
      "text/plain": [
       "HBox(children=(Button(button_style='success', description='Load data', layout=Layout(height='auto', width='200…"
      ]
     },
     "metadata": {},
     "output_type": "display_data"
    },
    {
     "data": {
      "application/vnd.jupyter.widget-view+json": {
       "model_id": "64f5adcb214e43a1b72e4aff795fc378",
       "version_major": 2,
       "version_minor": 0
      },
      "text/plain": [
       "HBox(children=(Valid(value=False, description='modulus data', layout=Layout(height='auto', width='auto'), read…"
      ]
     },
     "metadata": {},
     "output_type": "display_data"
    }
   ],
   "source": [
    "display(GUI.w_inp_load)\n",
    "display(GUI.w_inp_check)"
   ]
  },
  {
   "cell_type": "markdown",
   "metadata": {},
   "source": [
    "***\n",
    "### Time-temperature superposition (shift functions)"
   ]
  },
  {
   "cell_type": "markdown",
   "metadata": {},
   "source": [
    "This section allows to either plot the provided shift factors and shift functions for master curve inputs or allows for determining shift factors and functions from raw input data."
   ]
  },
  {
   "cell_type": "markdown",
   "metadata": {},
   "source": [
    "#### Shift factors log(a_T)"
   ]
  },
  {
   "cell_type": "code",
   "execution_count": 5,
   "metadata": {},
   "outputs": [
    {
     "data": {
      "application/vnd.jupyter.widget-view+json": {
       "model_id": "8ed82f1afc5944e8bb6c2f0cad804f7b",
       "version_major": 2,
       "version_minor": 0
      },
      "text/plain": [
       "VBox(children=(HBox(children=(Button(button_style='info', description='(fit) & plot shift factors', layout=Lay…"
      ]
     },
     "metadata": {},
     "output_type": "display_data"
    }
   ],
   "source": [
    "display(GUI.w_aT)"
   ]
  },
  {
   "cell_type": "markdown",
   "metadata": {},
   "source": [
    "#### Shift functions (WLF & Polynomial degree 1 to 4)"
   ]
  },
  {
   "cell_type": "code",
   "execution_count": 6,
   "metadata": {},
   "outputs": [
    {
     "data": {
      "application/vnd.jupyter.widget-view+json": {
       "model_id": "85bf5cc2b8eb4c4fbea52e240e15646b",
       "version_major": 2,
       "version_minor": 0
      },
      "text/plain": [
       "VBox(children=(HBox(children=(Button(button_style='info', description='(fit) & plot shift functions', layout=L…"
      ]
     },
     "metadata": {},
     "output_type": "display_data"
    }
   ],
   "source": [
    "display(GUI.w_shift)"
   ]
  },
  {
   "cell_type": "markdown",
   "metadata": {},
   "source": [
    "***\n",
    "### Pre-process (smooth) master curve"
   ]
  },
  {
   "cell_type": "markdown",
   "metadata": {},
   "source": [
    "A moving median filter to remove outliers in the measurements can be applied before the Prony series terms are estimated. The window size (win) can be adjusted through the slider. A window size of 1 means that no filtering procedure is performed and the raw data are fitted. "
   ]
  },
  {
   "cell_type": "code",
   "execution_count": 7,
   "metadata": {
    "scrolled": false
   },
   "outputs": [
    {
     "data": {
      "application/vnd.jupyter.widget-view+json": {
       "model_id": "a28084559ffe447eb1292b2cab133423",
       "version_major": 2,
       "version_minor": 0
      },
      "text/plain": [
       "Button(button_style='info', description='smooth master curve', layout=Layout(height='auto', width='200px'), st…"
      ]
     },
     "metadata": {},
     "output_type": "display_data"
    },
    {
     "data": {
      "application/vnd.jupyter.widget-view+json": {
       "model_id": "394d6a0c1bfd4378b18e4b48e236a116",
       "version_major": 2,
       "version_minor": 0
      },
      "text/plain": [
       "Output()"
      ]
     },
     "metadata": {},
     "output_type": "display_data"
    }
   ],
   "source": [
    "display(GUI.b_smooth)\n",
    "display(GUI.out_smooth)"
   ]
  },
  {
   "cell_type": "markdown",
   "metadata": {},
   "source": [
    "***\n",
    "### Estimate Prony series parameters"
   ]
  },
  {
   "cell_type": "markdown",
   "metadata": {},
   "source": [
    "#### Define the number and discretization of the Prony terms\n",
    "\n",
    "The default behavior is to apply an equidistant logarithmical spacing along the time axis and use one Prony term per decade. "
   ]
  },
  {
   "cell_type": "code",
   "execution_count": 8,
   "metadata": {},
   "outputs": [
    {
     "data": {
      "application/vnd.jupyter.widget-view+json": {
       "model_id": "ae2b1445a0884c919af8baf89470e061",
       "version_major": 2,
       "version_minor": 0
      },
      "text/plain": [
       "Button(button_style='info', description='plot discretization', layout=Layout(height='auto', width='200px'), st…"
      ]
     },
     "metadata": {},
     "output_type": "display_data"
    },
    {
     "data": {
      "application/vnd.jupyter.widget-view+json": {
       "model_id": "88dbba77f9e34dfab7c356a633c8242a",
       "version_major": 2,
       "version_minor": 0
      },
      "text/plain": [
       "Output()"
      ]
     },
     "metadata": {},
     "output_type": "display_data"
    }
   ],
   "source": [
    "# apply filter\n",
    "display(GUI.b_dis)\n",
    "display(GUI.out_dis)"
   ]
  },
  {
   "cell_type": "markdown",
   "metadata": {},
   "source": [
    "#### Curve fitting\n",
    "\n",
    "Frequency domain: GUSTL\n",
    "Time domain: least squares optimization"
   ]
  },
  {
   "cell_type": "code",
   "execution_count": 9,
   "metadata": {},
   "outputs": [
    {
     "data": {
      "application/vnd.jupyter.widget-view+json": {
       "model_id": "f251795efe6844a9b873bf87a8bb33b7",
       "version_major": 2,
       "version_minor": 0
      },
      "text/plain": [
       "Button(button_style='danger', description='fit Prony series', layout=Layout(height='auto', width='200px'), sty…"
      ]
     },
     "metadata": {},
     "output_type": "display_data"
    },
    {
     "data": {
      "application/vnd.jupyter.widget-view+json": {
       "model_id": "b80b6ba0be744efe809d22ed80187039",
       "version_major": 2,
       "version_minor": 0
      },
      "text/plain": [
       "Output()"
      ]
     },
     "metadata": {},
     "output_type": "display_data"
    }
   ],
   "source": [
    "# fit Prony series\n",
    "display(GUI.b_fit)\n",
    "display(GUI.out_fit)"
   ]
  },
  {
   "cell_type": "markdown",
   "metadata": {},
   "source": [
    "***\n",
    "### Generalized Maxwell model"
   ]
  },
  {
   "cell_type": "code",
   "execution_count": 10,
   "metadata": {},
   "outputs": [
    {
     "data": {
      "application/vnd.jupyter.widget-view+json": {
       "model_id": "220dab166dc247eead5cfc872d8cea33",
       "version_major": 2,
       "version_minor": 0
      },
      "text/plain": [
       "Button(button_style='info', description='Plot Gen. Maxwell', layout=Layout(height='auto', width='200px'), styl…"
      ]
     },
     "metadata": {},
     "output_type": "display_data"
    },
    {
     "data": {
      "application/vnd.jupyter.widget-view+json": {
       "model_id": "22c45c27030046588378e1c1fad8096b",
       "version_major": 2,
       "version_minor": 0
      },
      "text/plain": [
       "Output()"
      ]
     },
     "metadata": {},
     "output_type": "display_data"
    }
   ],
   "source": [
    "display(GUI.b_GMaxw)\n",
    "display(GUI.out_GMaxw)\n"
   ]
  },
  {
   "cell_type": "markdown",
   "metadata": {},
   "source": [
    "***\n",
    "### Download results"
   ]
  },
  {
   "cell_type": "code",
   "execution_count": 11,
   "metadata": {},
   "outputs": [
    {
     "data": {
      "application/vnd.jupyter.widget-view+json": {
       "model_id": "ad1145bac72d4685b0c6200fe7bdab94",
       "version_major": 2,
       "version_minor": 0
      },
      "text/plain": [
       "Button(button_style='warning', description='Download zip', layout=Layout(height='auto', width='200px'), style=…"
      ]
     },
     "metadata": {},
     "output_type": "display_data"
    }
   ],
   "source": [
    "display(GUI.db_zip)"
   ]
  },
  {
   "cell_type": "code",
   "execution_count": 12,
   "metadata": {},
   "outputs": [
    {
     "data": {
      "application/vnd.jupyter.widget-view+json": {
       "model_id": "f399941c0e64451cbcc05dd86df1ee1c",
       "version_major": 2,
       "version_minor": 0
      },
      "text/plain": [
       "Button(button_style='warning', description='Download Prony series', layout=Layout(height='auto', width='200px'…"
      ]
     },
     "metadata": {},
     "output_type": "display_data"
    }
   ],
   "source": [
    "#old\n",
    "display(GUI.db_prony)"
   ]
  },
  {
   "cell_type": "markdown",
   "metadata": {},
   "source": [
    "***\n",
    "### Start over"
   ]
  },
  {
   "cell_type": "code",
   "execution_count": 13,
   "metadata": {},
   "outputs": [
    {
     "data": {
      "application/vnd.jupyter.widget-view+json": {
       "model_id": "709a8dfaea194bf4b805718bb2602d50",
       "version_major": 2,
       "version_minor": 0
      },
      "text/plain": [
       "Button(button_style='danger', description='Clear notebook!', layout=Layout(height='auto', width='200px'), styl…"
      ]
     },
     "metadata": {},
     "output_type": "display_data"
    },
    {
     "data": {
      "application/vnd.jupyter.widget-view+json": {
       "model_id": "f74d86f0d4474e25abe5bf4a94c5263f",
       "version_major": 2,
       "version_minor": 0
      },
      "text/plain": [
       "Output()"
      ]
     },
     "metadata": {},
     "output_type": "display_data"
    }
   ],
   "source": [
    "display(GUI.b_reload)\n",
    "display(GUI.out_html)"
   ]
  },
  {
   "cell_type": "code",
   "execution_count": null,
   "metadata": {},
   "outputs": [],
   "source": []
  },
  {
   "cell_type": "markdown",
   "metadata": {},
   "source": [
    "***\n",
    "## Verification - Compare with Ansys"
   ]
  },
  {
   "cell_type": "raw",
   "metadata": {},
   "source": [
    "#Eplexor raw\n",
    "#epl_raw = visco.load_file('Eplexor_Input\\\\T150_tfs_raw.xls')\n",
    "\n",
    "#df_raw = visco.load_Eplexor_raw(epl_raw)"
   ]
  },
  {
   "cell_type": "raw",
   "metadata": {},
   "source": [
    "#Eplexor master\n",
    "#epl = visco.load_file('Eplexor_Input\\\\T150_tfs_master.xls')\n",
    "\n",
    "#df_master, df_aT, df_WLF, df_master_raw = visco.load_Eplexor_master(epl)"
   ]
  },
  {
   "cell_type": "raw",
   "metadata": {},
   "source": [
    "#Load user master\n",
    "data = visco.load_file('Verification\\\\ANSYS_Frequency\\\\input_master.csv')\n",
    "shift = visco.load_file('Verification\\\\ANSYS_Frequency\\\\shift_factors.csv')\n",
    "RefT = -5\n",
    "domain = 'freq'\n",
    "df_master, df_aT = visco.load_user_master(data, domain, RefT, shift)"
   ]
  },
  {
   "cell_type": "raw",
   "metadata": {},
   "source": [
    "#Shift function\n",
    "df_WLF = visco.fit_shift_WLF(df_master.RefT, df_aT)\n",
    "df_poly = visco.fit_shift_poly(df_aT)\n",
    "\n",
    "fig_shift, df_shift = visco.plot_shift_func(df_aT, df_WLF, df_poly)"
   ]
  },
  {
   "cell_type": "raw",
   "metadata": {},
   "source": [
    "#Smooth\n",
    "win = 5\n",
    "df_master = visco.smooth(df_master, win)\n",
    "fig_smooth = visco.plot_smooth(df_master)"
   ]
  },
  {
   "cell_type": "raw",
   "metadata": {},
   "source": [
    "#Discretization\n",
    "\n",
    "df_dis = visco.discretize(df_master)\n",
    "fig_dis = visco.plot_dis(df_master, df_dis)"
   ]
  },
  {
   "cell_type": "raw",
   "metadata": {},
   "source": [
    "#Prony fit\n",
    "\n",
    "if domain == 'freq':\n",
    "    prony = visco.fit_prony_freq(df_dis)\n",
    "elif domain == 'time':\n",
    "    prony = visco.fit_prony_time(df_dis, df_master)\n",
    "\n",
    "df_GMaxw = visco.calc_GenMaxw(**prony)\n",
    "fig_fit = visco.plot_fit(df_master, df_GMaxw)\n"
   ]
  },
  {
   "cell_type": "raw",
   "metadata": {},
   "source": [
    "#Gen. Maxwell\n",
    "fig_GMaxw_freq, fig_GMaxw_time = visco.plot_GMaxw(df_GMaxw);"
   ]
  },
  {
   "cell_type": "raw",
   "metadata": {},
   "source": [
    "#Comparison ANSYS\n",
    "\n",
    "df_prony_ANSYS = visco.load_prony_ANSYS('Verification\\\\ANSYS_Frequency\\\\prony_terms.MPL')\n",
    "prony_ANSYS = visco.prep_prony_ANSYS(df_prony_ANSYS, prony)\n",
    "df_GMaxw_ANSYS = visco.calc_GenMaxw(**prony_ANSYS)\n",
    "fig_fit_ANSYS = visco.plot_fit_ANSYS(df_master, df_GMaxw, df_GMaxw_ANSYS)"
   ]
  },
  {
   "cell_type": "raw",
   "metadata": {},
   "source": [
    "fig_prony_coeff = visco.plot_prony_coeff([prony, prony_ANSYS])"
   ]
  },
  {
   "cell_type": "raw",
   "metadata": {},
   "source": [
    "## Optimization of number of prony terms"
   ]
  },
  {
   "cell_type": "raw",
   "metadata": {},
   "source": [
    "prony_opt = visco.optimize(prony)\n",
    "fig = visco.plot_prony_coeff([prony, prony_opt])"
   ]
  },
  {
   "cell_type": "raw",
   "metadata": {},
   "source": [
    "df_GMaxw_opt = visco.calc_GenMaxw(**prony_opt)\n",
    "fig = visco.plot_fit(df_master, df_GMaxw_opt)"
   ]
  },
  {
   "cell_type": "code",
   "execution_count": null,
   "metadata": {},
   "outputs": [],
   "source": []
  }
 ],
 "metadata": {
  "kernelspec": {
   "display_name": "Python 3 (ipykernel)",
   "language": "python",
   "name": "python3"
  },
  "language_info": {
   "codemirror_mode": {
    "name": "ipython",
    "version": 3
   },
   "file_extension": ".py",
   "mimetype": "text/x-python",
   "name": "python",
   "nbconvert_exporter": "python",
   "pygments_lexer": "ipython3",
   "version": "3.9.7"
  },
  "voila": {
   "template": "classic"
  }
 },
 "nbformat": 4,
 "nbformat_minor": 4
}

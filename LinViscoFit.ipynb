{
 "cells": [
  {
   "cell_type": "markdown",
   "metadata": {},
   "source": [
    "# Prony series identification for linear viscoelastic material models\n",
    "Martin Springer | 2022 v0.1 \n",
    "\n",
    "***\n",
    "\n",
    "\n",
    "## Theory of linear viscoelasticity\n",
    "\n",
    "Theory of linear [viscoelasticity](https://en.wikipedia.org/wiki/Viscoelasticity) is used to describe the mechanical response of polymer materials under small strain conditions. An extensive review can be found in [Brinson H. F., Brinson L. C,. Polymer Engineering Science and Viscoelasticity,\n",
    "Springer, (2015)](https://link.springer.com/book/10.1007/978-1-4899-7485-3). A brief summary is provided below outlining the equations used in this notebook. The summary was extracted from [Springer, M., and Bosco N. Prog Photovolt 28.7 (2020): 659-681](https://onlinelibrary.wiley.com/doi/full/10.1002/pip.3257). <br/><br/>\n",
    "   \n",
    "\n",
    "\n",
    "  ### Mathematical description\n",
    "  \n",
    "  The rate-dependent material behavior can be described in either the time or frequency domain. In the time domain, the uniaxial, nonaging, isothermal stress-strain equation for a linear viscoelastic material can be represented by a Boltzmann superposition integral,\n",
    "  \n",
    "  \\begin{equation}\n",
    "  \\sigma(t) = \\int_0^t E(t-\\tau) \\frac{\\mathrm{d \\varepsilon(\\tau)}}{\\mathrm{d} \\tau} \\mathrm{d} \\tau \\quad ,\n",
    "  \\end{equation}\n",
    "  \n",
    "  where $\\sigma(t)$ is the stress response over time, $t$; $E(t)$ is the relaxation modulus; $\\varepsilon$ denotes the strain; and $\\tau$ is the integration variable. The limiting moduli for the viscoelastic material are defined as the instantaneous modulus, $E(t=0) = E_0$, and the equilibrium modulus, i.e., $E(t) \\rightarrow E_{\\infty}$ for $t \\rightarrow \\infty$. \n",
    "  \n",
    "  The [Generalized Maxwell Model](https://en.wikipedia.org/wiki/Generalized_Maxwell_model) is commonly used to represent the stress-strain response of polymers. The relaxation modulus derived from this model is given by,\n",
    "  \n",
    "  \\begin{equation}\n",
    "  E(t) = E_{\\infty} + \\sum\\limits_{i=1}^{m} E_i \\exp\\left(-\\frac{t}{\\tau_i} \\right) \\quad ,\n",
    "  \\label{eq:RelProny}\n",
    "  \\end{equation}\n",
    "  \n",
    "  where $\\tau_i$ (relaxation times),  $E_i = E_0 \\alpha_i$ (relaxation moduli) are material properties, and $m$ is the number of terms in the series. The above equation is often referred to as Prony series, and the equilibrium modulus can be defined by the Prony series as,\n",
    "  \n",
    "  \\begin{equation}\n",
    "  \tE_{\\infty} = E_0 \\left[1-\\sum_{i=1}^N \\alpha_i \\right] \\quad .\n",
    "  \\end{equation}\n",
    "  \n",
    "  The material properties can be directly obtained from relaxation or frequency-dependent test data. Material properties measured in the time domain can be converted into the frequency domain, and vice versa, by making use of a Fourier transformation,\n",
    "  \n",
    "  \\begin{align}\n",
    "  E'(\\omega) &= E_{\\infty} + \\sum\\limits_{i=1}^{m}\\frac{\\omega^2 \\tau_i^2 E_i}{\\omega^2 \\tau_i^2 + 1} \\quad ,\n",
    "  \\label{eq:PronyStor} \\\\\n",
    "  E''(\\omega) &= \\sum\\limits_{i=1}^{m} \\frac{\\omega \\tau_i E_i}{\\omega^2 \\tau_i^2 +1} \\quad .\n",
    "  \\label{eq:PronyLoss}\n",
    "  \\end{align}\n",
    "  \n",
    "  Herein, $E'(\\omega)$ is the storage modulus, $E''(\\omega)$ is the loss modulus, and $\\omega = 2 \\pi f$ is the angular frequency, where $f=1/t$ is the frequency in Hertz and $t$ is the time period in seconds, respectively. The complex modulus, $E^*(\\omega)$, and the loss factor, $\\tan(\\delta)$, are given as,\n",
    "  \n",
    "  \\begin{align}\n",
    "  E^*(\\omega) &= E'(\\omega)  + i E''(\\omega) \\quad \\text{and} \\\\\n",
    "  \\tan(\\delta)  & =  \\frac{E''(\\omega)}{E'(\\omega)} \\quad ,\n",
    "  \\end{align}\n",
    "  \n",
    "  respectively.\n",
    "  \n",
    "  ### Experimental characterization\n",
    "  \n",
    "  An efficient way to determine the storage modulus, $E'(\\omega)$, and the loss modulus, $E''(\\omega)$, is by dynamic mechanical analysis (DMA) or dynamic mechanical thermal analysis (DMTA). The material under test is excited to mechanical steady-state oscillations, either load- or displacement-controlled, and the corresponding response is measured. Alternatively, relaxation experiments in the time domain can be conducted to determine the relaxation modulus, $E(t)$.\n",
    "  \n",
    "  Measurements at very low frequencies (long time periods) can be very time-consuming and might be unfeasible for practical applications. On the other side of the spectrum, measurements at very high frequencies can be limited by the instrumentation or unintended heating of the sample during cyclic deformation. To avoid such situations, the [time-temperature superposition principle (TTSP)](https://en.wikipedia.org/wiki/Time%E2%80%93temperature_superposition) is applied for thermo-rheologically simple materials. For such materials, the viscoelastic response at one temperature is related to the viscoelastic response at another temperature by changing the time scale (or frequency). This way, the time scale for the materials characterization can be extended by conducting the same frequency measurements at different temperatures. Afterward, a reference temperature is selected, and the isothermal measurements are shifted on a logarithmic time (or frequency) scale to form a so–called master curve.\n",
    "  \n",
    "  ![TTSP](figures/TTSP_small.png)\n",
    "  \n",
    "  Time-temperature shift factors, $a_{\\mathrm{T}}(\\theta)$, are defined as the horizontal shift that must be applied to individual measurements at a constant temperature, $\\theta_i$, to form the master curve at the reference temperature, $\\theta_{\\mathrm{ref}}$.\n",
    "  \n",
    "  The determined shift factors, $a_{\\mathrm{T}}$, are used to define a shift function that describes the temperature dependence of the viscoelastic material. Different shift functions for various materials are available in the literature. A commonly used shift function is the the [Williams-Landel-Ferry (WLF)](https://en.wikipedia.org/wiki/Williams%E2%80%93Landel%E2%80%93Ferry_equation),\n",
    "  \n",
    "  \\begin{equation}\n",
    "  \\log(a_{\\mathrm{T}}) = -\\frac{C_1\\left(\\theta-\\theta_{\\mathrm{ref}}\\right)}{C_2 + \\left(\\theta-\\theta_{\\mathrm{ref}}\\right)}\n",
    "  \\label{eq:WLF_shift}\n",
    "  \\end{equation}\n",
    "  \n",
    "  where $\\theta_{\\mathrm{ref}}$ is the reference temperature of the master curve. $\\theta$ is the temperature of interest, and $C_1$ and $C_2$ are calibration constants.  The TTSP is based on the kinetic theory of polymers, which is strictly speaking only valid above the glass transition temperature, $\\theta_g$. Although the TTSP is thought to be valid also for temperatures below $\\theta_g$, the exact lower limit is not well defined, and the principle is commonly applied to temperatures below $\\theta_g$ as long as the measurement data are shiftable to form a smooth master curve. Alternatively, different shift functions can be fitted. Below we provide a routine to fit polynomial shift function up to degree four."
   ]
  },
  {
   "cell_type": "code",
   "execution_count": 1,
   "metadata": {},
   "outputs": [],
   "source": [
    "%matplotlib widget\n",
    "\n",
    "import LinViscoFit as visco\n",
    "#import ipywidgets as widgets\n",
    "\n",
    "#import pandas as pd\n",
    "#import io\n",
    "#import os\n",
    "\n",
    "#from IPython.display import display, clear_output, HTML\n",
    "#from base64 import b64encode\n",
    "#import matplotlib.pyplot as plt\n",
    "#pd.set_option('display.float_format', '{:.5e}'.format)\n",
    "\n",
    "visco.format_fig()\n",
    "GUI = visco.GUIControl()"
   ]
  },
  {
   "cell_type": "markdown",
   "metadata": {},
   "source": [
    "***\n",
    "## Parameter identification\n",
    "\n",
    "The linear viscoelastic curve fitting routine in this notebook allows for experimental data in both the time and frequency domains. The following conventions are used within this notebook:\n",
    "\n",
    "| Physical quantity      | Symbol          | Variable   | Unit   |\n",
    "| :--------------------- | :-------------: | :--------- | :----: |\n",
    "| Relaxation modulus:    | $E(t)$          | `E_relax`  | MPa    |\n",
    "| Storage modulus:       | $E'(\\omega)$    | `E_stor`   | MPa    |\n",
    "| Loss modulus:          | $E''(\\omega)$   | `E_loss`   | MPa    |\n",
    "| Complex modulus:       | $|E^{\\ast}|$    | `E_comp`   | MPa    |\n",
    "| Loss modulus:          | $\\tan(\\delta)$  | `tan_del`  | -      |\n",
    "| Instantaneous modulus: | $E_0$           | `E_0`      | MPa    |\n",
    "| Equilibrium modulus:   | $E_{inf}$       | `E_inf`    | MPa    |\n",
    "| Angular frequency:     | $\\omega$        | `omega`    | rad/s  |\n",
    "| Frequency:             | $f$             | `f`        | 1/s    |\n",
    "| Time:                  | $t$             | `t`        | s      |\n",
    "| Temperature:           | $\\theta$        | `T`        | °C     |\n",
    "\n",
    "\n",
    "### Specify and upload input data\n",
    "\n",
    "#### Domain\n",
    "This notebook allows for the estimation of Prony series parameters used in a Generalized Maxwell model to describe the linear viscoelastic behavior of polymer materials. The parameters can be either fitted from measurement data of Dynamic mechanical thermal analysis (DMTA) in the frequency domain (freq) or from relaxation experiments in the time domain (time). \n",
    "\n",
    "#### Instrument\n",
    "DMTA measurements conducted with a Netzsch Gabo DMA EPLEXOR (Eplexor) can be directly uploaded in this notebook as Excel files. Use the `Excel Export!` feature of the Eplexor software with the default template to create the input files. For measurements conducted with other instruments choose the user option (user) and preprocess the input files to be provided in comma-separated values (csv) format with the following columns header:\n",
    "* **Frequency domain:** header = `f, E_stor, E_loss`, where `f` is the frequency in Hertz (Hz), and ```E_stor``` and `E_loss` are the storage and loss modulus in Megapascal (MPa), respectively.\n",
    "* **Time domain:** header = `t, E_relax`, where `t` is the time in seconds (s), and `E_relax` is the relaxation modulus in MPa.\n",
    "\n",
    "#### Type\n",
    "The data can be provided as measurement sets at different temperatures (raw) or as master curve obtained from time-temperature superposition (master). If measurements at different temperatures are provided (raw) the individual temperature sets need to be identified. \n",
    "* **Eplexor** The notebook identifies the corresponding temperature sets automatically (only available in the frequency domain).\n",
    "* **user** Two additional columns are necessary in the input file. One column indicating the temperature `T` of the measurement sets and one column with the header `Set` to identify the measurement sets. All measurements at the same temperature set are marked with the same number, e.g. 0 for all measurements in the the first temperature set. The first tempeature set (0) represents the coldest temperature followed by the second set (1) at the next higher temperature level and so forth (see the provided example input files for further details).\n",
    "\n",
    "#### Example input files\n",
    "A set of example input files is provided in a GitHub repository.\n",
    "[Link to example input files](https://github.com/martin-springer/LinViscoFit/tree/main/examples)"
   ]
  },
  {
   "cell_type": "code",
   "execution_count": 2,
   "metadata": {},
   "outputs": [
    {
     "data": {
      "application/vnd.jupyter.widget-view+json": {
       "model_id": "935cabd8a6ab4ee3b53ab08b8ea15d69",
       "version_major": 2,
       "version_minor": 0
      },
      "text/plain": [
       "HBox(children=(RadioButtons(description='Domain:', layout=Layout(height='auto', width='auto'), options=('freq'…"
      ]
     },
     "metadata": {},
     "output_type": "display_data"
    }
   ],
   "source": [
    "display(GUI.w_inp_gen)"
   ]
  },
  {
   "cell_type": "markdown",
   "metadata": {},
   "source": [
    "#### Reference temperature \n",
    "\n",
    "Reference temperature refers to the temperature for which the master curve has been created through time-temperature superpostion. \n",
    "\n",
    "If a master curve from the Eplexor software is provided the reference temperature will be automatically extracted. \n",
    "\n",
    "For all other options please provide either the reference temperature of the user-specified master curve or the desired reference temperature for the time-temperature superposition of the raw data (for raw data the desired reference temperature will be automatically adjusted to align with the closest provided temperature set of the measurement input file).\n",
    "\n",
    "#### Optional shift factor upload\n",
    "If master curves are provided, the shift factor upload is optional and allows for the calculation of polynomial (D1 to D4) shift functions and the Williams–Landel–Ferry (WLF) shift function, but is not required for the Prony series estimation. \n",
    "\n",
    "If a master curve from created by the Eplexor software is provided, the default behavior of the notebook is to use the WLF shift function from the Eplexor software. However, in the time-temperature superpostion section, a checkbox is provided to overwrite the WLF fit of the Eplexor software and conduct another WLF fit with the algorithm in this notebook, which is then used to estimate the Prony series parameters.\n",
    "\n",
    "If raw measurement data are provided (for both Eplexor or user), the shift factors can be either determined for the desired reference temperature in the time-temperature superposition section or user-specified shift factors can be uploaded to be used to create the master curve. "
   ]
  },
  {
   "cell_type": "code",
   "execution_count": 3,
   "metadata": {},
   "outputs": [
    {
     "data": {
      "application/vnd.jupyter.widget-view+json": {
       "model_id": "4ea094dc68194089ae8c6e81cba5f352",
       "version_major": 2,
       "version_minor": 0
      },
      "text/plain": [
       "HBox(children=(FloatText(value=0.0, description='Reference temperature (C):', layout=Layout(height='auto', wid…"
      ]
     },
     "metadata": {},
     "output_type": "display_data"
    }
   ],
   "source": [
    "display(GUI.w_inp_shift)"
   ]
  },
  {
   "cell_type": "markdown",
   "metadata": {},
   "source": [
    "#### Load and check the provided input files\n",
    "\n",
    "Once all the input parameter are specified and the necessary files are uploaded click the *Load data* button below. If the input files could be loaded successfully, the widgets will indicate the state of the uploaded data."
   ]
  },
  {
   "cell_type": "code",
   "execution_count": 4,
   "metadata": {},
   "outputs": [
    {
     "data": {
      "application/vnd.jupyter.widget-view+json": {
       "model_id": "917a96c9957b4c219c2a830a8bff2824",
       "version_major": 2,
       "version_minor": 0
      },
      "text/plain": [
       "VBox(children=(HBox(children=(Button(button_style='success', description='Load data', layout=Layout(height='au…"
      ]
     },
     "metadata": {},
     "output_type": "display_data"
    }
   ],
   "source": [
    "display(GUI.w_inp_load)\n",
    "#display(GUI.w_inp_check)"
   ]
  },
  {
   "cell_type": "markdown",
   "metadata": {},
   "source": [
    "***\n",
    "### Time-temperature superposition (shift functions)\n",
    "\n",
    "This section allows to calulate shift factors from raw input data and fit shift functions.\n",
    "\n",
    "#### Shift factors $\\log(a_{T})$ - Create master curve from raw input\n",
    "\n",
    "This subsection only applies if raw input data have been provided. If master curves have been uploaded, please procede to the next step. \n",
    "\n",
    "Here, the time-temperature superposition principle is applied to create a master curve from the individual temperature measurement sets provided in the raw input data file. If user shift factors, $\\log(a_{T})$, are uploaded, the provided shift factors will be used to create the master curve from the raw measurement sets at different temperatures (the checkbox allows you to overwrite the provided shift factors). If no shift factors are provided, the measurement sets from the raw input file are used to estimate the shift factors and create a master curve. Measurement sets below the desired reference temperatures are shifted to lower frequencies (longer time periods), whereas measurement sets at temperatures higher than the reference temperature are shifted to higher frequencies (shorter time periods). For the frequency domain, only the storage modulus input data are considered to create the master curve from the raw input data. The shift factors obtained from creating the storage modulus master curve are then used to create the loss modulus master curve."
   ]
  },
  {
   "cell_type": "code",
   "execution_count": 5,
   "metadata": {},
   "outputs": [
    {
     "data": {
      "application/vnd.jupyter.widget-view+json": {
       "model_id": "83b527e3ae314372b7e25c034228936f",
       "version_major": 2,
       "version_minor": 0
      },
      "text/plain": [
       "VBox(children=(HBox(children=(Button(button_style='info', description='master raw data', disabled=True, layout…"
      ]
     },
     "metadata": {},
     "output_type": "display_data"
    }
   ],
   "source": [
    "display(GUI.w_aT)"
   ]
  },
  {
   "cell_type": "markdown",
   "metadata": {},
   "source": [
    "#### Shift functions (WLF & Polynomial degree 1 to 4)\n",
    "\n",
    "If shift factors are available, the WLF shift function and polynomial functions of degree 1 to 4 can be fitted and plotted below. If the WLF shift functions was already provided by the Eplexor software, the checkbox below let's you overwrite the WLF fit of the Eplexor software with a WLF fit of this notebook. Either way, both solutions should be very similar. "
   ]
  },
  {
   "cell_type": "code",
   "execution_count": 6,
   "metadata": {},
   "outputs": [
    {
     "data": {
      "application/vnd.jupyter.widget-view+json": {
       "model_id": "a327a44a85f14d6bb8609950c7fbe6ca",
       "version_major": 2,
       "version_minor": 0
      },
      "text/plain": [
       "VBox(children=(HBox(children=(Button(button_style='info', description='(fit) & plot shift functions', disabled…"
      ]
     },
     "metadata": {},
     "output_type": "display_data"
    }
   ],
   "source": [
    "display(GUI.w_shift)"
   ]
  },
  {
   "cell_type": "markdown",
   "metadata": {},
   "source": [
    "***\n",
    "### Estimate Prony series parameters\n",
    "\n",
    "#### Pre-process (smooth) master curve\n",
    "\n",
    "A moving median filter to remove outliers in the measurement data can be applied before the Prony series parameters are identified. The window size (win) can be adjusted through the slider above the figure. A window size of 1 means that no filtering procedure is performed and the raw data are fitted."
   ]
  },
  {
   "cell_type": "code",
   "execution_count": 7,
   "metadata": {
    "scrolled": false
   },
   "outputs": [
    {
     "data": {
      "application/vnd.jupyter.widget-view+json": {
       "model_id": "01f6bc4d73da45868e2c0376839c3ed3",
       "version_major": 2,
       "version_minor": 0
      },
      "text/plain": [
       "Button(button_style='info', description='smooth master curve', layout=Layout(height='auto', width='200px'), st…"
      ]
     },
     "metadata": {},
     "output_type": "display_data"
    },
    {
     "data": {
      "application/vnd.jupyter.widget-view+json": {
       "model_id": "1723033908624a9ca9dc8bb1b3b3bd6b",
       "version_major": 2,
       "version_minor": 0
      },
      "text/plain": [
       "Output()"
      ]
     },
     "metadata": {},
     "output_type": "display_data"
    }
   ],
   "source": [
    "display(GUI.b_smooth)\n",
    "display(GUI.out_smooth)"
   ]
  },
  {
   "cell_type": "markdown",
   "metadata": {},
   "source": [
    "#### Define the number and discretization of the Prony series\n",
    "\n",
    "The number of Prony terms, $N$, needs to be defined before the parameter $\\tau_i$ and $\\alpha_i$ can be identified. The default behavior is to equally space one Prony term per decade along the logarithmic time axis, $\\tau_i$ = [1E-1, 1E0, 1E1,...] (s), within the experimental window. This discretization typically delivers accurate results for engineering applications. However, the fine discretization can be computationally heavy for usage in Finite Element simulations. Hence, we allow the user to modify this default discretization by either using the optimization routine provided below or by manually defining the number of Prony terms $N$ for the discretization. Additionally, the user can decide wether to round the lowest and highest relaxation times, $\\tau_i$, to the nearest base 10 number within the measurement window (round) or to use the exact minimum and maximum values of the experimental window for the relaxation times (exact). "
   ]
  },
  {
   "cell_type": "code",
   "execution_count": 8,
   "metadata": {},
   "outputs": [
    {
     "data": {
      "application/vnd.jupyter.widget-view+json": {
       "model_id": "bbf68aa28a7440309bf2b954b8e3bb36",
       "version_major": 2,
       "version_minor": 0
      },
      "text/plain": [
       "VBox(children=(HBox(children=(RadioButtons(description='Discretization:', layout=Layout(height='auto', width='…"
      ]
     },
     "metadata": {},
     "output_type": "display_data"
    }
   ],
   "source": [
    "display(GUI.w_dis)"
   ]
  },
  {
   "cell_type": "markdown",
   "metadata": {},
   "source": [
    "#### Curve fitting\n",
    "\n",
    "Two different curve fitting routines for the Prony series parameters are employed and are dependent on the domain of the input data:\n",
    "\n",
    "* **Frequency domain**: A generalized collocation method using stiffness matrices is used as described in [Kraus, M. A., and M. Niederwald. Eur J Eng Mech 37.1 (2017): 82-106](https://journals.ub.ovgu.de/index.php/techmech/article/view/600). This methods utilizes both the storage and loss modulus master curves to estimate the Prony series parameters.\n",
    "   \n",
    "   \n",
    "* **Time domain**: A nonlinear least-squares optimization is performed with the L-BFGS-B algorithm of the scipy package. The implementation is similar to the optimization problem described by [Barrientos, E., Pelayo, F., Noriega, Á. et al. Mech Time-Depend Mater 23, 193–206 (2019)](https://doi.org/10.1007/s11043-018-9394-z) for a homogenous distribution of discrete times. "
   ]
  },
  {
   "cell_type": "code",
   "execution_count": 13,
   "metadata": {},
   "outputs": [
    {
     "data": {
      "application/vnd.jupyter.widget-view+json": {
       "model_id": "e1a50a23330c46b881df6c841f8f47ba",
       "version_major": 2,
       "version_minor": 0
      },
      "text/plain": [
       "Button(button_style='danger', description='fit Prony series', layout=Layout(height='auto', width='200px'), sty…"
      ]
     },
     "metadata": {},
     "output_type": "display_data"
    },
    {
     "data": {
      "application/vnd.jupyter.widget-view+json": {
       "model_id": "8df8206abbb04067974b78f4066521e7",
       "version_major": 2,
       "version_minor": 0
      },
      "text/plain": [
       "Output(outputs=({'output_type': 'display_data', 'data': {'text/plain': \"Canvas(toolbar=Toolbar(toolitems=[('Ho…"
      ]
     },
     "metadata": {},
     "output_type": "display_data"
    }
   ],
   "source": [
    "display(GUI.b_fit)\n",
    "display(GUI.out_fit)"
   ]
  },
  {
   "cell_type": "code",
   "execution_count": 26,
   "metadata": {},
   "outputs": [],
   "source": [
    "import numpy as np\n",
    "from scipy.optimize import minimize"
   ]
  },
  {
   "cell_type": "code",
   "execution_count": null,
   "metadata": {},
   "outputs": [],
   "source": []
  },
  {
   "cell_type": "code",
   "execution_count": 21,
   "metadata": {},
   "outputs": [
    {
     "data": {
      "text/plain": [
       "0.1924000000000004"
      ]
     },
     "execution_count": 21,
     "metadata": {},
     "output_type": "execute_result"
    }
   ],
   "source": [
    "np.sum((1 - 0.98*GUI.df_master['E_relax']/GUI.df_master['E_relax'])**2)"
   ]
  },
  {
   "cell_type": "code",
   "execution_count": 40,
   "metadata": {},
   "outputs": [],
   "source": [
    "def E_relax(time, alpha_i, tau_i, E_0):\n",
    "    return E_0 * (1-np.dot(alpha_i, 1-np.exp(-time/tau_i[:,None])))\n",
    "    \n",
    "    #y = np.zeros(time.shape[0])\n",
    "    #for i, t in enumerate(time):\n",
    "    #    y[i] = E_0 * (1 - np.sum(alpha_i*(1-np.exp(-t/tau_i))))\n",
    "    #return y\n",
    "\n",
    "\n",
    "def residual(alpha_i, tau_i, E_0, E_relax_meas, time_meas):\n",
    "    #return np.sum((1 - E_relax(time_meas, alpha_i, tau_i, E_0)/E_relax_meas)**2)\n",
    "    return np.sum((E_relax_meas - E_relax(time_meas, alpha_i, tau_i, E_0))**2)\n",
    "\n",
    "def fit_prony_time_tau(df_dis, df_master):\n",
    "\n",
    "    alpha_i = np.ones(df_dis['tau'].values.shape) #start all a_i = 1\n",
    "    tau_i = df_dis['tau'].values\n",
    "    E_0 = df_dis.E_0\n",
    "    E_relax_meas = df_master['E_relax_filt'].values\n",
    "    time_meas = df_master['t'].values\n",
    "    N = df_dis.nprony\n",
    "    bnd = ((0,1),)*alpha_i.shape[0]\n",
    "\n",
    "    res = minimize(residual, alpha_i, args=(tau_i, E_0, E_relax_meas, time_meas), method='L-BFGS-B', bounds=bnd)\n",
    "    \n",
    "    alpha = res.x\n",
    "\n",
    "    #Ensure that Sum(alpha_i) < 1 (otherwise can lead to numerical difficulties in FEM)\n",
    "    if alpha.sum() >= 1:\n",
    "        df_dis['alpha'] = 0.99/alpha.sum()*alpha #Normalize alpha values to 0.99\n",
    "    else:\n",
    "        df_dis['alpha'] = alpha\n",
    "\n",
    "    df_prony = df_dis[['tau', 'alpha']].copy()\n",
    "    df_prony = df_prony.iloc[::-1].reset_index(drop=True)\n",
    "    df_prony.index += 1 \n",
    "    df_prony.RefT = df_dis.RefT\n",
    "\n",
    "    #Prepare input arguments for generalized Maxwell model\n",
    "    f_min = df_dis['f'].iloc[0]\n",
    "    f_max = df_dis['f'].iloc[-1]\n",
    "\n",
    "    prony = {'E_0':E_0, 'df_terms':df_prony, 'f_min':f_min, 'f_max':f_max, 'label':'equi.'}\n",
    "    \n",
    "    return prony"
   ]
  },
  {
   "cell_type": "code",
   "execution_count": 41,
   "metadata": {},
   "outputs": [
    {
     "name": "stdout",
     "output_type": "stream",
     "text": [
      "4.99 s ± 0 ns per loop (mean ± std. dev. of 1 run, 1 loop each)\n"
     ]
    }
   ],
   "source": [
    "%%timeit -n1 -r1 \n",
    "prony = fit_prony_time_tau(GUI.df_dis, GUI.df_master)"
   ]
  },
  {
   "cell_type": "code",
   "execution_count": 35,
   "metadata": {},
   "outputs": [
    {
     "data": {
      "application/vnd.jupyter.widget-view+json": {
       "model_id": "e1048c96cdaa40dbaa0e9bca32d3ebde",
       "version_major": 2,
       "version_minor": 0
      },
      "image/png": "[encoded data removed]",
      "text/html": [
       "\n",
       "            <div style=\"display: inline-block;\">\n",
       "                <div class=\"jupyter-widgets widget-label\" style=\"text-align: center;\">\n",
       "                    Figure\n",
       "                </div>\n",
       "                <img src='data:image/png;base64,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' width=450.0/>\n",
       "            </div>\n",
       "        "
      ],
      "text/plain": [
       "Canvas(toolbar=Toolbar(toolitems=[('Home', 'Reset original view', 'home', 'home'), ('Back', 'Back to previous …"
      ]
     },
     "metadata": {},
     "output_type": "display_data"
    }
   ],
   "source": [
    "df_GMaxw = visco.calc_GenMaxw(**prony)\n",
    "visco.plot_fit(GUI.df_master, df_GMaxw);"
   ]
  },
  {
   "cell_type": "markdown",
   "metadata": {},
   "source": [
    "### Optimization"
   ]
  },
  {
   "cell_type": "code",
   "execution_count": null,
   "metadata": {},
   "outputs": [],
   "source": []
  },
  {
   "cell_type": "code",
   "execution_count": null,
   "metadata": {},
   "outputs": [],
   "source": []
  },
  {
   "cell_type": "code",
   "execution_count": null,
   "metadata": {},
   "outputs": [],
   "source": []
  },
  {
   "cell_type": "markdown",
   "metadata": {},
   "source": [
    "***\n",
    "### Generalized Maxwell model"
   ]
  },
  {
   "cell_type": "code",
   "execution_count": null,
   "metadata": {},
   "outputs": [],
   "source": [
    "display(GUI.b_GMaxw)\n",
    "display(GUI.out_GMaxw)\n"
   ]
  },
  {
   "cell_type": "markdown",
   "metadata": {},
   "source": [
    "***\n",
    "### Download results and figures"
   ]
  },
  {
   "cell_type": "code",
   "execution_count": null,
   "metadata": {},
   "outputs": [],
   "source": [
    "display(GUI.db_zip)"
   ]
  },
  {
   "cell_type": "code",
   "execution_count": null,
   "metadata": {},
   "outputs": [],
   "source": [
    "#old\n",
    "display(GUI.db_prony)"
   ]
  },
  {
   "cell_type": "markdown",
   "metadata": {},
   "source": [
    "***\n",
    "### Start over"
   ]
  },
  {
   "cell_type": "code",
   "execution_count": null,
   "metadata": {},
   "outputs": [],
   "source": [
    "display(GUI.b_reload)\n",
    "display(GUI.out_html)"
   ]
  },
  {
   "cell_type": "markdown",
   "metadata": {},
   "source": [
    "***\n",
    "## Verification - Compare with Ansys"
   ]
  },
  {
   "cell_type": "raw",
   "metadata": {},
   "source": [
    "#Eplexor raw\n",
    "#epl_raw = visco.load_file('Eplexor_Input\\\\T150_tfs_raw.xls')\n",
    "\n",
    "#df_raw = visco.load_Eplexor_raw(epl_raw)"
   ]
  },
  {
   "cell_type": "raw",
   "metadata": {},
   "source": [
    "#Eplexor master\n",
    "#epl = visco.load_file('Eplexor_Input\\\\T150_tfs_master.xls')\n",
    "\n",
    "#df_master, df_aT, df_WLF, df_master_raw = visco.load_Eplexor_master(epl)"
   ]
  },
  {
   "cell_type": "raw",
   "metadata": {},
   "source": [
    "#Load user master\n",
    "data = visco.load_file('..\\\\..\\\\Verification\\\\ANSYS_Frequency\\\\freq_user_master.csv')\n",
    "shift = visco.load_file('..\\\\..\\\\Verification\\\\ANSYS_Frequency\\\\shift_factors.csv')\n",
    "RefT = -5\n",
    "domain = 'freq'\n",
    "df_master = visco.load_user_master(data, domain, RefT)\n",
    "df_aT = visco.load_user_shift(shift)"
   ]
  },
  {
   "cell_type": "raw",
   "metadata": {},
   "source": [
    "#Shift function\n",
    "df_WLF = visco.fit_shift_WLF(df_master.RefT, df_aT)\n",
    "df_poly = visco.fit_shift_poly(df_aT)\n",
    "\n",
    "fig_shift, df_shift = visco.plot_shift_func(df_aT, df_WLF, df_poly)"
   ]
  },
  {
   "cell_type": "raw",
   "metadata": {},
   "source": [
    "#Smooth\n",
    "win = 5\n",
    "df_master = visco.smooth(df_master, win)\n",
    "fig_smooth = visco.plot_smooth(df_master)"
   ]
  },
  {
   "cell_type": "raw",
   "metadata": {},
   "source": [
    "#Discretization\n",
    "\n",
    "df_dis = visco.discretize(df_master)\n",
    "fig_dis = visco.plot_dis(df_master, df_dis)"
   ]
  },
  {
   "cell_type": "raw",
   "metadata": {},
   "source": [
    "#Prony fit\n",
    "\n",
    "if domain == 'freq':\n",
    "    prony = visco.fit_prony_freq(df_dis)\n",
    "elif domain == 'time':\n",
    "    prony = visco.fit_prony_time(df_dis, df_master)\n",
    "\n",
    "df_GMaxw = visco.calc_GenMaxw(**prony)\n",
    "fig_fit = visco.plot_fit(df_master, df_GMaxw)\n"
   ]
  },
  {
   "cell_type": "raw",
   "metadata": {},
   "source": [
    "#Gen. Maxwell\n",
    "fig_GMaxw = visco.plot_GMaxw(df_GMaxw);"
   ]
  },
  {
   "cell_type": "raw",
   "metadata": {},
   "source": [
    "#Comparison ANSYS\n",
    "\n",
    "df_prony_ANSYS = visco.load_prony_ANSYS('..\\\\..\\\\Verification\\\\ANSYS_Frequency\\\\prony_terms.MPL')\n",
    "prony_ANSYS = visco.prep_prony_ANSYS(df_prony_ANSYS, prony)\n",
    "df_GMaxw_ANSYS = visco.calc_GenMaxw(**prony_ANSYS)\n",
    "fig_fit_ANSYS = visco.plot_fit_ANSYS(df_master, df_GMaxw, df_GMaxw_ANSYS)"
   ]
  },
  {
   "cell_type": "raw",
   "metadata": {},
   "source": [
    "fig_prony_coeff = visco.plot_prony_coeff([prony, prony_ANSYS])"
   ]
  },
  {
   "cell_type": "raw",
   "metadata": {},
   "source": [
    "## Optimization of number of prony terms"
   ]
  },
  {
   "cell_type": "raw",
   "metadata": {},
   "source": [
    "prony_opt = visco.optimize(prony)\n",
    "fig = visco.plot_prony_coeff([prony, prony_opt])"
   ]
  },
  {
   "cell_type": "raw",
   "metadata": {},
   "source": [
    "df_GMaxw_opt = visco.calc_GenMaxw(**prony_opt)\n",
    "fig = visco.plot_fit(df_master, df_GMaxw_opt)"
   ]
  },
  {
   "cell_type": "code",
   "execution_count": null,
   "metadata": {},
   "outputs": [],
   "source": []
  }
 ],
 "metadata": {
  "kernelspec": {
   "display_name": "Python 3 (ipykernel)",
   "language": "python",
   "name": "python3"
  },
  "language_info": {
   "codemirror_mode": {
    "name": "ipython",
    "version": 3
   },
   "file_extension": ".py",
   "mimetype": "text/x-python",
   "name": "python",
   "nbconvert_exporter": "python",
   "pygments_lexer": "ipython3",
   "version": "3.9.7"
  },
  "voila": {
   "template": "classic"
  }
 },
 "nbformat": 4,
 "nbformat_minor": 4
}
